{
 "cells": [
  {
   "cell_type": "markdown",
   "metadata": {},
   "source": [
    "## Learning Objectives\n",
    "\n",
    "This module reviews the basics of data analysis in Python using the pandas library. At the end of this module, you should be able to:\n",
    "- Read and explore tabluar data in Python using the pandas library\n",
    "- Perform basic data analysis using pandas data structures and functions\n",
    "- Clean datasets to remove missing values\n",
    "- Use your own functions to process table data\n",
    "- Manipulate data tables that include dates/times (temporal datasets) and resample their values\n"
   ]
  },
  {
   "cell_type": "markdown",
   "metadata": {},
   "source": [
    "## What is geopandas?\n",
    "\n",
    "The [geopandas library](https://geopandas.org/) is an easy-to-use, powerful data analysis toolkit for working with geospatial data. It extends the capabilities of pandas to allow spatial operations on geometric types. The development of geopandas started in 2013 and it is now maintained by an active developer community.\n",
    "\n",
    "geopandas is a \"high-level\" package, which means that it makes use of several other packages in the background. It combines the performance of powerful Python libraries such as [pandas](https://pandas.pydata.org/), [shapely](https://shapely.readthedocs.io/), [fiona](https://fiona.readthedocs.io/), and [pyproj](https://pyproj4.github.io/).\n",
    "\n",
    "One of the most useful features of geopandas is its ability to interact with numerous geospatial data formats. It supports reading and writing data from/to formats including\n",
    "\n",
    "- ESRI Shapefile\n",
    "- GeoJSON\n",
    "- KML\n",
    "- GPKG\n",
    "- PostGIS\n",
    "- Spatialite\n",
    "\n",
    "For a full list of supported file formats and other features, please refer to the official [geopandas documentation and reference guide](https://geopandas.org/).\n"
   ]
  },
  {
   "cell_type": "markdown",
   "metadata": {},
   "source": [
    "## Pandas data structures\n",
    "\n",
    "In pandas, table-like data are stored in two-dimensional `DataFrame` objects with labeled rows and columns. The pandas DataFrame was originally inspired by data frames that are in the R programming language. You can think of a DataFrame in pandas as a programmable spreadsheet. One-dimensional sequences of values are stored as a pandas `Series`. A single row or column in a pandas DataFrame is actually a pandas Series. You can think of a pandas Series as a clever list.\n",
    "\n",
    "![_**Figure 1**. Illustration of the pandas DataFrame and Series data structures. A pandas DataFrame is a two-dimensional data structure used for storing and manipulating table-like data (data with rows and columns). A pandas Series is a one-dimensional data structure used for storing and manipulating a sequence of values._](../img/pandas-structures-annotated.png)\n",
    "\n",
    "_**Figure 1**. Illustration of the pandas DataFrame and Series data structures. A pandas DataFrame is a two-dimensional data structure used for storing and manipulating table-like data (data with rows and columns). A pandas Series is a one-dimensional data structure used for storing and manipulating a sequence of values._\n",
    "\n",
    "As you can see from Figure 1, both the DataFrame and Series in pandas have an index that can be used to select values, but DataFrame objects also have labels to identify columns. In the following sections, we will use many of these features to explore real-world data and learn some handy data analysis procedures using pandas. For a comprehensive overview of pandas data structures, we recommend you have a look at the [pandas online documentation about data structures](https://pandas.pydata.org/pandas-docs/stable/user_guide/dsintro.html) as well as Chapter 5 in the book [Python for Data Analysis](https://wesmckinney.com/book/).\n"
   ]
  },
  {
   "cell_type": "markdown",
   "metadata": {},
   "source": [
    "## Reading tabular data \n",
    "\n",
    "In the following sections, we will learn how to read data from a text file (`data/GHCNd_Houghton.csv`), which contains the weather observations at the Houghton-Hancock airport from 1950 to 2024. The data are downloaded from the [NOAA Global Historical Climatology Network daily (GHCNd) database](https://www.ncei.noaa.gov/products/land-based-station/global-historical-climatology-network-daily). The first 15 rows in the file look like the following:\n",
    "\n",
    "```\n",
    "# Daily climate summaries in Houghton Michigan\n",
    "# Data source: NOAA NCEI GHCNd\n",
    "# \n",
    "# AWND - Daily mean wind speed (m/s)\n",
    "# FMTM - Time of fastest 1-minute wind (hours and minutes HHMM)\n",
    "# PRCP - Precipitation (mm)\n",
    "# SNOW - Snowfall (mm)\n",
    "# TMAX - Maximum temperature (Celsius)\n",
    "# TMIN - Minimum temperature (Celsius)\n",
    "\n",
    "DATE,AWND,FMTM,PRCP,SNOW,TMAX,TMIN\n",
    "1990-01-01,,,1.0,18.0,-3.9,-6.1\n",
    "1990-01-02,,,0.0,0.0,1.1,-5.6\n",
    "1990-01-03,,,0.0,0.0,2.2,-5.0\n",
    "1990-01-04,,,1.3,23.0,-1.7,-9.4\n",
    "```\n",
    "\n",
    "Now that we have familiarized ourselves with the data, we can continue and see how to read the data using pandas. Let's start by importing the pandas module. It is customary to import pandas as `pd`.\n"
   ]
  },
  {
   "cell_type": "code",
   "execution_count": 1,
   "metadata": {},
   "outputs": [],
   "source": [
    "import numpy as np\n",
    "import pandas as pd"
   ]
  },
  {
   "cell_type": "markdown",
   "metadata": {},
   "source": [
    "As we can observe, there are some metadata at the top of the file giving basic information about its contents and source. This is not data we want to process, so we need to skip over that part of the file when we read it. Here are the 9 first rows of data in the text file (note that the 3rd row is blank).\n",
    "\n",
    "```\n",
    "# Daily climate summaries in Houghton Michigan\n",
    "# Data source: NOAA NCEI GHCNd\n",
    "# \n",
    "# AWND - Daily mean wind speed (m/s)\n",
    "# FMTM - Time of fastest 1-minute wind (hours and minutes HHMM)\n",
    "# PRCP - Precipitation (mm)\n",
    "# SNOW - Snowfall (mm)\n",
    "# TMAX - Maximum temperature (Celsius)\n",
    "# TMIN - Minimum temperature (Celsius)\n",
    "```\n",
    "\n",
    "Next, we will read the input data file and store the contents of that file into a variable called `data` using the `.read_csv()` function. Skipping over rows is easy to do when reading data with pandas. We just need to add the `skiprows` parameter when we read the file, listing the number of rows to skip (11 in this case)."
   ]
  },
  {
   "cell_type": "code",
   "execution_count": 2,
   "metadata": {},
   "outputs": [],
   "source": [
    "data = pd.read_csv(\"../data/GHCNd_Houghton.csv\",skiprows=9)"
   ]
  },
  {
   "cell_type": "markdown",
   "metadata": {},
   "source": [
    "Our input file is a comma-delimited file, meaning that the columns in the data are separated by commas (`,`) on each row. The `.read_csv()` function uses comma as the default delimiter, hence we did not need to specify it separately in the command above. If all went as planned, you should now have a new variable `data` in memory that contains the input data. \n",
    "\n",
    "It is quite common to have some other character instead of a comma separating the columns from each other. The .read_csv() in pandas is a generic function for reading text-based data files, supporting files separated by commas, spaces, or other common separators. The `sep` parameter can be used to specify which character is used as a delimiter. For instance `sep=';'`, would be used when the columns in the data file are delimited with a semicolon (;). For a full list of available parameters for the read_csv() function, please refer to the [pd.read_csv() documention](https://pandas.pydata.org/pandas-docs/stable/reference/api/pandas.read_csv.html) or run `help(pd.read_csv)`. \n",
    "\n",
    "Pandas has several other functions for parsing input data from different file formats. For example, reading Excel files can be easily done using the `.read_excel()` function. Another useful function is `.read_pickle()`, which reads data stored in the Python pickle format. Check out the [pandas documentation about input and output tools](https://pandas.pydata.org/pandas-docs/stable/user_guide/io.html) for more details about reading data."
   ]
  },
  {
   "cell_type": "markdown",
   "metadata": {},
   "source": [
    "Let's check the the contents of our data. You can print the contents of a DataFrame (or a snippet of it) simply by calling it by name (e.g., `data`). However, quite often you want to check only a selection of *n* rows from the start or end of the data set. For doing that, we can use the `.head()` method of the DataFrame object that will, by default, return the first five rows of the DataFrame. You can return any number of rows by adding that number inside the parentheses. For example, `data.head(10)` would return the first ten rows from the DataFrame called `data`."
   ]
  },
  {
   "cell_type": "code",
   "execution_count": 3,
   "metadata": {},
   "outputs": [
    {
     "data": {
      "text/html": [
       "<div>\n",
       "<style scoped>\n",
       "    .dataframe tbody tr th:only-of-type {\n",
       "        vertical-align: middle;\n",
       "    }\n",
       "\n",
       "    .dataframe tbody tr th {\n",
       "        vertical-align: top;\n",
       "    }\n",
       "\n",
       "    .dataframe thead th {\n",
       "        text-align: right;\n",
       "    }\n",
       "</style>\n",
       "<table border=\"1\" class=\"dataframe\">\n",
       "  <thead>\n",
       "    <tr style=\"text-align: right;\">\n",
       "      <th></th>\n",
       "      <th>DATE</th>\n",
       "      <th>AWND</th>\n",
       "      <th>FMTM</th>\n",
       "      <th>PRCP</th>\n",
       "      <th>SNOW</th>\n",
       "      <th>TMAX</th>\n",
       "      <th>TMIN</th>\n",
       "    </tr>\n",
       "  </thead>\n",
       "  <tbody>\n",
       "    <tr>\n",
       "      <th>0</th>\n",
       "      <td>1990-01-01</td>\n",
       "      <td>NaN</td>\n",
       "      <td>NaN</td>\n",
       "      <td>1.0</td>\n",
       "      <td>18.0</td>\n",
       "      <td>-3.9</td>\n",
       "      <td>-6.1</td>\n",
       "    </tr>\n",
       "    <tr>\n",
       "      <th>1</th>\n",
       "      <td>1990-01-02</td>\n",
       "      <td>NaN</td>\n",
       "      <td>NaN</td>\n",
       "      <td>0.0</td>\n",
       "      <td>0.0</td>\n",
       "      <td>1.1</td>\n",
       "      <td>-5.6</td>\n",
       "    </tr>\n",
       "    <tr>\n",
       "      <th>2</th>\n",
       "      <td>1990-01-03</td>\n",
       "      <td>NaN</td>\n",
       "      <td>NaN</td>\n",
       "      <td>0.0</td>\n",
       "      <td>0.0</td>\n",
       "      <td>2.2</td>\n",
       "      <td>-5.0</td>\n",
       "    </tr>\n",
       "    <tr>\n",
       "      <th>3</th>\n",
       "      <td>1990-01-04</td>\n",
       "      <td>NaN</td>\n",
       "      <td>NaN</td>\n",
       "      <td>1.3</td>\n",
       "      <td>23.0</td>\n",
       "      <td>-1.7</td>\n",
       "      <td>-9.4</td>\n",
       "    </tr>\n",
       "    <tr>\n",
       "      <th>4</th>\n",
       "      <td>1990-01-05</td>\n",
       "      <td>NaN</td>\n",
       "      <td>NaN</td>\n",
       "      <td>3.0</td>\n",
       "      <td>97.0</td>\n",
       "      <td>-7.2</td>\n",
       "      <td>-10.6</td>\n",
       "    </tr>\n",
       "    <tr>\n",
       "      <th>5</th>\n",
       "      <td>1990-01-06</td>\n",
       "      <td>NaN</td>\n",
       "      <td>NaN</td>\n",
       "      <td>0.0</td>\n",
       "      <td>0.0</td>\n",
       "      <td>-1.7</td>\n",
       "      <td>-16.1</td>\n",
       "    </tr>\n",
       "    <tr>\n",
       "      <th>6</th>\n",
       "      <td>1990-01-07</td>\n",
       "      <td>NaN</td>\n",
       "      <td>NaN</td>\n",
       "      <td>0.0</td>\n",
       "      <td>0.0</td>\n",
       "      <td>2.2</td>\n",
       "      <td>-4.4</td>\n",
       "    </tr>\n",
       "    <tr>\n",
       "      <th>7</th>\n",
       "      <td>1990-01-08</td>\n",
       "      <td>NaN</td>\n",
       "      <td>NaN</td>\n",
       "      <td>0.0</td>\n",
       "      <td>0.0</td>\n",
       "      <td>5.6</td>\n",
       "      <td>-4.4</td>\n",
       "    </tr>\n",
       "    <tr>\n",
       "      <th>8</th>\n",
       "      <td>1990-01-09</td>\n",
       "      <td>NaN</td>\n",
       "      <td>NaN</td>\n",
       "      <td>0.8</td>\n",
       "      <td>8.0</td>\n",
       "      <td>1.1</td>\n",
       "      <td>-6.7</td>\n",
       "    </tr>\n",
       "    <tr>\n",
       "      <th>9</th>\n",
       "      <td>1990-01-10</td>\n",
       "      <td>NaN</td>\n",
       "      <td>NaN</td>\n",
       "      <td>0.0</td>\n",
       "      <td>0.0</td>\n",
       "      <td>0.6</td>\n",
       "      <td>-6.7</td>\n",
       "    </tr>\n",
       "  </tbody>\n",
       "</table>\n",
       "</div>"
      ],
      "text/plain": [
       "         DATE  AWND  FMTM  PRCP  SNOW  TMAX  TMIN\n",
       "0  1990-01-01   NaN   NaN   1.0  18.0  -3.9  -6.1\n",
       "1  1990-01-02   NaN   NaN   0.0   0.0   1.1  -5.6\n",
       "2  1990-01-03   NaN   NaN   0.0   0.0   2.2  -5.0\n",
       "3  1990-01-04   NaN   NaN   1.3  23.0  -1.7  -9.4\n",
       "4  1990-01-05   NaN   NaN   3.0  97.0  -7.2 -10.6\n",
       "5  1990-01-06   NaN   NaN   0.0   0.0  -1.7 -16.1\n",
       "6  1990-01-07   NaN   NaN   0.0   0.0   2.2  -4.4\n",
       "7  1990-01-08   NaN   NaN   0.0   0.0   5.6  -4.4\n",
       "8  1990-01-09   NaN   NaN   0.8   8.0   1.1  -6.7\n",
       "9  1990-01-10   NaN   NaN   0.0   0.0   0.6  -6.7"
      ]
     },
     "execution_count": 3,
     "metadata": {},
     "output_type": "execute_result"
    }
   ],
   "source": [
    "data.head(10)"
   ]
  },
  {
   "cell_type": "markdown",
   "metadata": {},
   "source": [
    "#### Question\n",
    "\n",
    "How would you read the file in once again selecting only the `DATE` and `SNOW` columns? Try reading the file into a new variable called `snow_data` and only selecting two columns."
   ]
  },
  {
   "cell_type": "code",
   "execution_count": 4,
   "metadata": {},
   "outputs": [],
   "source": [
    "# Use this cell to enter your solution.\n"
   ]
  },
  {
   "cell_type": "markdown",
   "metadata": {},
   "source": [
    "Hint: Using the `usecols` parameter to limit the number of columns can be useful when working with data files that have possibly tens or even hundreds of columns. Typically you are not interested in all of them, but you want focus on only a few important ones which you can select already when reading the data.  "
   ]
  },
  {
   "cell_type": "markdown",
   "metadata": {},
   "source": [
    "## DataFrame properties\n",
    "\n",
    "Now we will continue exploring the data set we have stored in the variable `data`. A normal first step when you load new data is to explore the data set a bit to understand how the data is structured, and what kind of values are stored in in. Let's start by checking the size of our DataFrame. We can use the `len()` function similar to the use with lists to see how many rows we have."
   ]
  },
  {
   "cell_type": "code",
   "execution_count": 5,
   "metadata": {},
   "outputs": [
    {
     "data": {
      "text/plain": [
       "12751"
      ]
     },
     "execution_count": 5,
     "metadata": {},
     "output_type": "execute_result"
    }
   ],
   "source": [
    "len(data)"
   ]
  },
  {
   "cell_type": "markdown",
   "metadata": {},
   "source": [
    "We can also get a quick sense of the size of the data set using the attribute `.shape`. It returns a `tuple` with the number of rows as the first element and the number of columns as the second element."
   ]
  },
  {
   "cell_type": "code",
   "execution_count": 6,
   "metadata": {},
   "outputs": [
    {
     "data": {
      "text/plain": [
       "(12751, 7)"
      ]
     },
     "execution_count": 6,
     "metadata": {},
     "output_type": "execute_result"
    }
   ],
   "source": [
    "data.shape"
   ]
  },
  {
   "cell_type": "markdown",
   "metadata": {},
   "source": [
    "Here we see that our data set has 12751 rows and 7 columns. Note that we do not use parentheses after the word `shape` when accessing attributes. `.shape` is one of several attributes related to a pandas DataFrame object. Attributes are typically used to store useful information (or *metadata*) about the object at hand."
   ]
  },
  {
   "cell_type": "markdown",
   "metadata": {},
   "source": [
    "Let's also check the column names we have in our DataFrame (yes, this is an attribute as well!). We already saw the column names when we checked the first several rows using `data.head()`, but often it is useful to access the column names directly. You can check the column names using the `.columns` attribute, which returns an index object that contains the column labels. Alternatively, we can add the `.values` attribute to get an array of the column names. For example, we could check the column names by typing `data.columns.values`."
   ]
  },
  {
   "cell_type": "code",
   "execution_count": 7,
   "metadata": {},
   "outputs": [
    {
     "data": {
      "text/plain": [
       "array(['DATE', 'AWND', 'FMTM', 'PRCP', 'SNOW', 'TMAX', 'TMIN'],\n",
       "      dtype=object)"
      ]
     },
     "execution_count": 7,
     "metadata": {},
     "output_type": "execute_result"
    }
   ],
   "source": [
    "data.columns.values"
   ]
  },
  {
   "cell_type": "markdown",
   "metadata": {},
   "source": [
    "We can also find information about the row identifiers using the `.index` attribute."
   ]
  },
  {
   "cell_type": "code",
   "execution_count": 8,
   "metadata": {},
   "outputs": [
    {
     "data": {
      "text/plain": [
       "RangeIndex(start=0, stop=12751, step=1)"
      ]
     },
     "execution_count": 8,
     "metadata": {},
     "output_type": "execute_result"
    }
   ],
   "source": [
    "data.index"
   ]
  },
  {
   "cell_type": "markdown",
   "metadata": {},
   "source": [
    "Here we see how the data is indexed, starting at `0`, ending at `12751`, and with an increment of 1 between each value. This is basically the same way in which Python lists are indexed, however, pandas allows also other ways of identifying the rows. DataFrame indices could, for example, be date objects. We will learn more about resetting the index later. What about the data types of each column? We can check the data type of all columns at once using the `.dtypes` attribute."
   ]
  },
  {
   "cell_type": "code",
   "execution_count": 9,
   "metadata": {},
   "outputs": [
    {
     "data": {
      "text/plain": [
       "DATE     object\n",
       "AWND    float64\n",
       "FMTM    float64\n",
       "PRCP    float64\n",
       "SNOW    float64\n",
       "TMAX    float64\n",
       "TMIN    float64\n",
       "dtype: object"
      ]
     },
     "execution_count": 9,
     "metadata": {},
     "output_type": "execute_result"
    }
   ],
   "source": [
    "# Print data types\n",
    "data.dtypes"
   ]
  },
  {
   "cell_type": "markdown",
   "metadata": {},
   "source": [
    "Here we see that `DATE` and `STATION` contain string values (`object`), while the other columns contain decimal values with 64-bit precision (`float64`)."
   ]
  },
  {
   "cell_type": "markdown",
   "metadata": {},
   "source": [
    "#### Question\n",
    "How would you print out the number of columns in the DataFrame?"
   ]
  },
  {
   "cell_type": "code",
   "execution_count": 10,
   "metadata": {},
   "outputs": [],
   "source": [
    "# Use this cell to enter your solution.\n"
   ]
  },
  {
   "cell_type": "markdown",
   "metadata": {},
   "source": [
    "## Selecting and updating data\n",
    "\n",
    "We often want to make selections from our data and only use specific rows from a DataFrame in the analysis. There are multiple ways of selecting subsets from a pandas DataFrame that can be based on specific index values, for example, or using some predefined criteria to make the selection such as selecting all rows where values in column `X` are larger than `0`. Next, we will go through the most useful ways of selecting specific rows, columns, and individual values."
   ]
  },
  {
   "cell_type": "markdown",
   "metadata": {},
   "source": [
    "### Selecting rows and columns\n",
    "\n",
    "One common way of selecting only specific rows from a DataFrame is done via the concept of slicing. Getting a slice of data in pandas can be done in a similar manner as with normal Python lists, by specifying an index range inside square brackets: `DataFrame[start_index:stop_index]`. Let's select the first five rows and assign them to a variable called `selection`. Here, we will first see how selecting the data based on index values works just like with \"normal\" Python lists."
   ]
  },
  {
   "cell_type": "code",
   "execution_count": 11,
   "metadata": {},
   "outputs": [
    {
     "data": {
      "text/html": [
       "<div>\n",
       "<style scoped>\n",
       "    .dataframe tbody tr th:only-of-type {\n",
       "        vertical-align: middle;\n",
       "    }\n",
       "\n",
       "    .dataframe tbody tr th {\n",
       "        vertical-align: top;\n",
       "    }\n",
       "\n",
       "    .dataframe thead th {\n",
       "        text-align: right;\n",
       "    }\n",
       "</style>\n",
       "<table border=\"1\" class=\"dataframe\">\n",
       "  <thead>\n",
       "    <tr style=\"text-align: right;\">\n",
       "      <th></th>\n",
       "      <th>DATE</th>\n",
       "      <th>AWND</th>\n",
       "      <th>FMTM</th>\n",
       "      <th>PRCP</th>\n",
       "      <th>SNOW</th>\n",
       "      <th>TMAX</th>\n",
       "      <th>TMIN</th>\n",
       "    </tr>\n",
       "  </thead>\n",
       "  <tbody>\n",
       "    <tr>\n",
       "      <th>0</th>\n",
       "      <td>1990-01-01</td>\n",
       "      <td>NaN</td>\n",
       "      <td>NaN</td>\n",
       "      <td>1.0</td>\n",
       "      <td>18.0</td>\n",
       "      <td>-3.9</td>\n",
       "      <td>-6.1</td>\n",
       "    </tr>\n",
       "    <tr>\n",
       "      <th>1</th>\n",
       "      <td>1990-01-02</td>\n",
       "      <td>NaN</td>\n",
       "      <td>NaN</td>\n",
       "      <td>0.0</td>\n",
       "      <td>0.0</td>\n",
       "      <td>1.1</td>\n",
       "      <td>-5.6</td>\n",
       "    </tr>\n",
       "    <tr>\n",
       "      <th>2</th>\n",
       "      <td>1990-01-03</td>\n",
       "      <td>NaN</td>\n",
       "      <td>NaN</td>\n",
       "      <td>0.0</td>\n",
       "      <td>0.0</td>\n",
       "      <td>2.2</td>\n",
       "      <td>-5.0</td>\n",
       "    </tr>\n",
       "    <tr>\n",
       "      <th>3</th>\n",
       "      <td>1990-01-04</td>\n",
       "      <td>NaN</td>\n",
       "      <td>NaN</td>\n",
       "      <td>1.3</td>\n",
       "      <td>23.0</td>\n",
       "      <td>-1.7</td>\n",
       "      <td>-9.4</td>\n",
       "    </tr>\n",
       "    <tr>\n",
       "      <th>4</th>\n",
       "      <td>1990-01-05</td>\n",
       "      <td>NaN</td>\n",
       "      <td>NaN</td>\n",
       "      <td>3.0</td>\n",
       "      <td>97.0</td>\n",
       "      <td>-7.2</td>\n",
       "      <td>-10.6</td>\n",
       "    </tr>\n",
       "  </tbody>\n",
       "</table>\n",
       "</div>"
      ],
      "text/plain": [
       "         DATE  AWND  FMTM  PRCP  SNOW  TMAX  TMIN\n",
       "0  1990-01-01   NaN   NaN   1.0  18.0  -3.9  -6.1\n",
       "1  1990-01-02   NaN   NaN   0.0   0.0   1.1  -5.6\n",
       "2  1990-01-03   NaN   NaN   0.0   0.0   2.2  -5.0\n",
       "3  1990-01-04   NaN   NaN   1.3  23.0  -1.7  -9.4\n",
       "4  1990-01-05   NaN   NaN   3.0  97.0  -7.2 -10.6"
      ]
     },
     "execution_count": 11,
     "metadata": {},
     "output_type": "execute_result"
    }
   ],
   "source": [
    "selection = data[0:5]\n",
    "selection"
   ]
  },
  {
   "cell_type": "markdown",
   "metadata": {},
   "source": [
    "Here we have selected the first five rows (index `0`-`4`) using the integer index. Notice that the logic here is similar to how Python's `list` slicing (or `range()` function) works; the value on the right side of the colon (here number `5`) is the stop value, which is excluded from the range selection. Hence, the syntax is `[start_index:stop_index]`. In addition, the parameter `:step` could be added at the end in indicate the step size between values (`1` by default). "
   ]
  },
  {
   "cell_type": "markdown",
   "metadata": {},
   "source": [
    "Selections like the previous example are possible, but there is a better and more flexible way of selecting data using the [`pandas` `.loc[]` label-based indexer](https://pandas.pydata.org/pandas-docs/stable/reference/api/pandas.DataFrame.loc.html). As the name suggests, `.loc[]` selects data based on axis labels (row and column labels). This alone does not necessarily tell much to you at this point, but `.loc[]` makes it possible to conduct more specific selections, such as allowing you to choose which columns are chosen when selecting a subset of rows. It also makes possible to benefit from row labels that are not necessarily sequential numbers (as has been the case with all our examples thus far). For instance, you can make selections for rows indexed by dates or timestamps. Hence, `.loc[]` can become very handy when working with time series data (we will learn more about this later). Let's now test out the `.loc[]` label indexer by selecting values from column `TEMP` from rows `0`-`5`."
   ]
  },
  {
   "cell_type": "code",
   "execution_count": 12,
   "metadata": {},
   "outputs": [
    {
     "data": {
      "text/plain": [
       "0    -6.1\n",
       "1    -5.6\n",
       "2    -5.0\n",
       "3    -9.4\n",
       "4   -10.6\n",
       "5   -16.1\n",
       "Name: TMIN, dtype: float64"
      ]
     },
     "execution_count": 12,
     "metadata": {},
     "output_type": "execute_result"
    }
   ],
   "source": [
    "# Select temp column values on rows 0-5\n",
    "selection = data.loc[0:5, \"TMIN\"]\n",
    "selection"
   ]
  },
  {
   "cell_type": "markdown",
   "metadata": {},
   "source": [
    "Notice that in this case, we get six rows of data (index `0`-`5`)! This happens because we are now doing the selection based on axis labels instead of normal Python collection indices. It is important to notice the difference between these two approaches, as mixing the two may cause confusion, incorrect analysis results, or bugs in your code. We recommend to use `.loc[]` whenever possible (there are specific cases when you may want to use other approaches). The basic syntax for using `.loc[]` is:\n",
    " \n",
    "```python\n",
    ".loc[first_included_label:last_included_label, columns]\n",
    "```\n",
    "\n",
    "By looking at the syntax, you might imagine that it is possible to select multiple columns when using `.loc[]`. We can test this by selecting the `TMIN` and `TMAX` columns from a set of rows by passing the selected column names inside a list."
   ]
  },
  {
   "cell_type": "code",
   "execution_count": 13,
   "metadata": {},
   "outputs": [
    {
     "data": {
      "text/html": [
       "<div>\n",
       "<style scoped>\n",
       "    .dataframe tbody tr th:only-of-type {\n",
       "        vertical-align: middle;\n",
       "    }\n",
       "\n",
       "    .dataframe tbody tr th {\n",
       "        vertical-align: top;\n",
       "    }\n",
       "\n",
       "    .dataframe thead th {\n",
       "        text-align: right;\n",
       "    }\n",
       "</style>\n",
       "<table border=\"1\" class=\"dataframe\">\n",
       "  <thead>\n",
       "    <tr style=\"text-align: right;\">\n",
       "      <th></th>\n",
       "      <th>TMAX</th>\n",
       "      <th>TMIN</th>\n",
       "    </tr>\n",
       "  </thead>\n",
       "  <tbody>\n",
       "    <tr>\n",
       "      <th>0</th>\n",
       "      <td>-3.9</td>\n",
       "      <td>-6.1</td>\n",
       "    </tr>\n",
       "    <tr>\n",
       "      <th>1</th>\n",
       "      <td>1.1</td>\n",
       "      <td>-5.6</td>\n",
       "    </tr>\n",
       "    <tr>\n",
       "      <th>2</th>\n",
       "      <td>2.2</td>\n",
       "      <td>-5.0</td>\n",
       "    </tr>\n",
       "    <tr>\n",
       "      <th>3</th>\n",
       "      <td>-1.7</td>\n",
       "      <td>-9.4</td>\n",
       "    </tr>\n",
       "    <tr>\n",
       "      <th>4</th>\n",
       "      <td>-7.2</td>\n",
       "      <td>-10.6</td>\n",
       "    </tr>\n",
       "    <tr>\n",
       "      <th>5</th>\n",
       "      <td>-1.7</td>\n",
       "      <td>-16.1</td>\n",
       "    </tr>\n",
       "  </tbody>\n",
       "</table>\n",
       "</div>"
      ],
      "text/plain": [
       "   TMAX  TMIN\n",
       "0  -3.9  -6.1\n",
       "1   1.1  -5.6\n",
       "2   2.2  -5.0\n",
       "3  -1.7  -9.4\n",
       "4  -7.2 -10.6\n",
       "5  -1.7 -16.1"
      ]
     },
     "execution_count": 13,
     "metadata": {},
     "output_type": "execute_result"
    }
   ],
   "source": [
    "selection = data.loc[0:5, [\"TMAX\", \"TMIN\"]]\n",
    "selection"
   ]
  },
  {
   "cell_type": "markdown",
   "metadata": {},
   "source": [
    "As a result, we now have a new DataFrame with two columns and 6 rows (i.e., index labels ranging from `0` to `5`)."
   ]
  },
  {
   "cell_type": "markdown",
   "metadata": {},
   "source": [
    "#### Question\n",
    "\n",
    "Calculate the maximum temperature for the first 10 days of February 1950. Do the selection using the row index values."
   ]
  },
  {
   "cell_type": "code",
   "execution_count": 14,
   "metadata": {},
   "outputs": [],
   "source": [
    "# Use this cell to enter your solution.\n"
   ]
  },
  {
   "cell_type": "markdown",
   "metadata": {},
   "source": [
    "### Selecting a single row or value\n",
    "\n",
    "You can also select an individual row from specific position using the `.loc[]` indexing. Here we select all the data values using index `4` (the 5th row)."
   ]
  },
  {
   "cell_type": "code",
   "execution_count": 15,
   "metadata": {},
   "outputs": [
    {
     "data": {
      "text/plain": [
       "DATE    1990-01-05\n",
       "AWND           NaN\n",
       "FMTM           NaN\n",
       "PRCP           3.0\n",
       "SNOW          97.0\n",
       "TMAX          -7.2\n",
       "TMIN         -10.6\n",
       "Name: 4, dtype: object"
      ]
     },
     "execution_count": 15,
     "metadata": {},
     "output_type": "execute_result"
    }
   ],
   "source": [
    "row = data.loc[4]\n",
    "row"
   ]
  },
  {
   "cell_type": "markdown",
   "metadata": {},
   "source": [
    "`.loc[]` indexing returns the values from that row as a `Series` where the indices are actually the column names of the row variables. Hence, you can access the value of an individual column by referring to its index using following format:"
   ]
  },
  {
   "cell_type": "code",
   "execution_count": 16,
   "metadata": {},
   "outputs": [
    {
     "data": {
      "text/plain": [
       "-7.2"
      ]
     },
     "execution_count": 16,
     "metadata": {},
     "output_type": "execute_result"
    }
   ],
   "source": [
    "# Print one attribute from the selected row\n",
    "row[\"TMAX\"]"
   ]
  },
  {
   "cell_type": "markdown",
   "metadata": {},
   "source": [
    "Sometimes it is enough to access a single value in a DataFrame directly."
   ]
  },
  {
   "cell_type": "code",
   "execution_count": 17,
   "metadata": {},
   "outputs": [
    {
     "data": {
      "text/plain": [
       "-7.2"
      ]
     },
     "execution_count": 17,
     "metadata": {},
     "output_type": "execute_result"
    }
   ],
   "source": [
    "data.loc[4,'TMAX']"
   ]
  },
  {
   "cell_type": "markdown",
   "metadata": {},
   "source": [
    "### Selections based on index positions\n",
    "\n",
    "As we have learned thus far, `.loc[]` is based on the axis labels, the names of columns and rows. For positional based indexing, pandas has an [`.iloc[]` indexer](https://pandas.pydata.org/pandas-docs/stable/reference/api/pandas.DataFrame.iloc.html), which is based on integer value indices. With `.iloc[]` it is also possible to refer to the columns based on their index value (i.e., to a positional number of a column in the DataFrame). For example, `data.iloc[0, 0]` would return `1950-01-01` in our example DataFrame, which is the value on the first row and first column in the data."
   ]
  },
  {
   "cell_type": "code",
   "execution_count": 18,
   "metadata": {},
   "outputs": [
    {
     "data": {
      "text/plain": [
       "'1990-01-01'"
      ]
     },
     "execution_count": 18,
     "metadata": {},
     "output_type": "execute_result"
    }
   ],
   "source": [
    "data.iloc[0, 0]"
   ]
  },
  {
   "cell_type": "markdown",
   "metadata": {},
   "source": [
    "The syntax for using `.iloc[]` is: \n",
    "\n",
    "```python\n",
    ".iloc[start_row_position:stop_row_position,\n",
    "      start_column_position:stop_column_position]\n",
    "```"
   ]
  },
  {
   "cell_type": "markdown",
   "metadata": {},
   "source": [
    "It is also possible to get ranges of rows and columns with `.iloc[]`. For example, we could select the `DATE` to `PRCP` columns from the first five rows based on their indices (positions) in the data set. Here, we will select rows from positions 0 to 5 and columns from positions 0 to 4."
   ]
  },
  {
   "cell_type": "code",
   "execution_count": 19,
   "metadata": {},
   "outputs": [
    {
     "data": {
      "text/html": [
       "<div>\n",
       "<style scoped>\n",
       "    .dataframe tbody tr th:only-of-type {\n",
       "        vertical-align: middle;\n",
       "    }\n",
       "\n",
       "    .dataframe tbody tr th {\n",
       "        vertical-align: top;\n",
       "    }\n",
       "\n",
       "    .dataframe thead th {\n",
       "        text-align: right;\n",
       "    }\n",
       "</style>\n",
       "<table border=\"1\" class=\"dataframe\">\n",
       "  <thead>\n",
       "    <tr style=\"text-align: right;\">\n",
       "      <th></th>\n",
       "      <th>DATE</th>\n",
       "      <th>AWND</th>\n",
       "      <th>FMTM</th>\n",
       "      <th>PRCP</th>\n",
       "    </tr>\n",
       "  </thead>\n",
       "  <tbody>\n",
       "    <tr>\n",
       "      <th>0</th>\n",
       "      <td>1990-01-01</td>\n",
       "      <td>NaN</td>\n",
       "      <td>NaN</td>\n",
       "      <td>1.0</td>\n",
       "    </tr>\n",
       "    <tr>\n",
       "      <th>1</th>\n",
       "      <td>1990-01-02</td>\n",
       "      <td>NaN</td>\n",
       "      <td>NaN</td>\n",
       "      <td>0.0</td>\n",
       "    </tr>\n",
       "    <tr>\n",
       "      <th>2</th>\n",
       "      <td>1990-01-03</td>\n",
       "      <td>NaN</td>\n",
       "      <td>NaN</td>\n",
       "      <td>0.0</td>\n",
       "    </tr>\n",
       "    <tr>\n",
       "      <th>3</th>\n",
       "      <td>1990-01-04</td>\n",
       "      <td>NaN</td>\n",
       "      <td>NaN</td>\n",
       "      <td>1.3</td>\n",
       "    </tr>\n",
       "    <tr>\n",
       "      <th>4</th>\n",
       "      <td>1990-01-05</td>\n",
       "      <td>NaN</td>\n",
       "      <td>NaN</td>\n",
       "      <td>3.0</td>\n",
       "    </tr>\n",
       "  </tbody>\n",
       "</table>\n",
       "</div>"
      ],
      "text/plain": [
       "         DATE  AWND  FMTM  PRCP\n",
       "0  1990-01-01   NaN   NaN   1.0\n",
       "1  1990-01-02   NaN   NaN   0.0\n",
       "2  1990-01-03   NaN   NaN   0.0\n",
       "3  1990-01-04   NaN   NaN   1.3\n",
       "4  1990-01-05   NaN   NaN   3.0"
      ]
     },
     "execution_count": 19,
     "metadata": {},
     "output_type": "execute_result"
    }
   ],
   "source": [
    "selection = data.iloc[0:5, 0:4]\n",
    "selection"
   ]
  },
  {
   "cell_type": "markdown",
   "metadata": {},
   "source": [
    "### Selections using listed criteria\n",
    "\n",
    "Another common way of selecting rows from a DataFrame is to provide a list of values that are used for finding matching rows in a specific DataFrame column. For example, selecting rows that match specific dates can be done by passing a list of values used as criteria to the [`.isin()` function of pandas](https://pandas.pydata.org/pandas-docs/stable/reference/api/pandas.DataFrame.isin.html). This will go through each value in the selected column (in this case `DATE`) and check whether there is a match or not. As an output, the `.isin()` function returns a `Series` of Boolean values (True or False) that can be combined with `.loc[]` to do the final selection that returns only rows that meet the selection criteria. "
   ]
  },
  {
   "cell_type": "code",
   "execution_count": 20,
   "metadata": {},
   "outputs": [
    {
     "data": {
      "text/html": [
       "<div>\n",
       "<style scoped>\n",
       "    .dataframe tbody tr th:only-of-type {\n",
       "        vertical-align: middle;\n",
       "    }\n",
       "\n",
       "    .dataframe tbody tr th {\n",
       "        vertical-align: top;\n",
       "    }\n",
       "\n",
       "    .dataframe thead th {\n",
       "        text-align: right;\n",
       "    }\n",
       "</style>\n",
       "<table border=\"1\" class=\"dataframe\">\n",
       "  <thead>\n",
       "    <tr style=\"text-align: right;\">\n",
       "      <th></th>\n",
       "      <th>DATE</th>\n",
       "      <th>AWND</th>\n",
       "      <th>FMTM</th>\n",
       "      <th>PRCP</th>\n",
       "      <th>SNOW</th>\n",
       "      <th>TMAX</th>\n",
       "      <th>TMIN</th>\n",
       "    </tr>\n",
       "  </thead>\n",
       "  <tbody>\n",
       "    <tr>\n",
       "      <th>12415</th>\n",
       "      <td>2024-01-01</td>\n",
       "      <td>3.8</td>\n",
       "      <td>NaN</td>\n",
       "      <td>0.0</td>\n",
       "      <td>NaN</td>\n",
       "      <td>-1.0</td>\n",
       "      <td>-5.5</td>\n",
       "    </tr>\n",
       "    <tr>\n",
       "      <th>12416</th>\n",
       "      <td>2024-01-02</td>\n",
       "      <td>6.5</td>\n",
       "      <td>NaN</td>\n",
       "      <td>0.3</td>\n",
       "      <td>NaN</td>\n",
       "      <td>1.1</td>\n",
       "      <td>-3.2</td>\n",
       "    </tr>\n",
       "    <tr>\n",
       "      <th>12417</th>\n",
       "      <td>2024-01-03</td>\n",
       "      <td>5.5</td>\n",
       "      <td>NaN</td>\n",
       "      <td>0.3</td>\n",
       "      <td>NaN</td>\n",
       "      <td>0.0</td>\n",
       "      <td>-6.6</td>\n",
       "    </tr>\n",
       "  </tbody>\n",
       "</table>\n",
       "</div>"
      ],
      "text/plain": [
       "             DATE  AWND  FMTM  PRCP  SNOW  TMAX  TMIN\n",
       "12415  2024-01-01   3.8   NaN   0.0   NaN  -1.0  -5.5\n",
       "12416  2024-01-02   6.5   NaN   0.3   NaN   1.1  -3.2\n",
       "12417  2024-01-03   5.5   NaN   0.3   NaN   0.0  -6.6"
      ]
     },
     "execution_count": 20,
     "metadata": {},
     "output_type": "execute_result"
    }
   ],
   "source": [
    "# List of values that will be used as basis for selecting the rows\n",
    "selection_criteria = ['2024-01-01','2024-01-02','2024-01-03']\n",
    "\n",
    "# Do the selection based on criteria applied to YEARMODA column\n",
    "data.loc[data[\"DATE\"].isin(selection_criteria)]"
   ]
  },
  {
   "cell_type": "markdown",
   "metadata": {},
   "source": [
    "### Conditional selections\n",
    "\n",
    "One really useful feature in pandas is the ability to easily filter and select rows based on a conditional statement. The following example shows how we can check whether the temperature at each row of the `TMAX` column is greater than or equal to 25 degrees."
   ]
  },
  {
   "cell_type": "code",
   "execution_count": 21,
   "metadata": {},
   "outputs": [
    {
     "data": {
      "text/plain": [
       "0        False\n",
       "1        False\n",
       "2        False\n",
       "3        False\n",
       "4        False\n",
       "         ...  \n",
       "12746    False\n",
       "12747    False\n",
       "12748    False\n",
       "12749    False\n",
       "12750    False\n",
       "Name: TMAX, Length: 12751, dtype: bool"
      ]
     },
     "execution_count": 21,
     "metadata": {},
     "output_type": "execute_result"
    }
   ],
   "source": [
    "data[\"TMAX\"] >= 25"
   ]
  },
  {
   "cell_type": "markdown",
   "metadata": {},
   "source": [
    "As a result, we get a Series of Boolean values, where the value `True` or `False` at each row determines whether or not our condition was met. This kind of `Series` or `numpy.array` of Boolean values based on some predefined criteria is typically called a mask. We can take advantage of this mask when doing selections with `.loc[]` based on specific criteria. In the following example, we use the same criterion as above and store all rows meeting the criterion into the variable `hot_temps` (\"hot\" temperatures). We can specify the criterion directly inside the square brackets of the `.loc[]` indexer. Let's select rows that have a temperature greater than or equal to 25 degrees."
   ]
  },
  {
   "cell_type": "code",
   "execution_count": 22,
   "metadata": {},
   "outputs": [
    {
     "data": {
      "text/html": [
       "<div>\n",
       "<style scoped>\n",
       "    .dataframe tbody tr th:only-of-type {\n",
       "        vertical-align: middle;\n",
       "    }\n",
       "\n",
       "    .dataframe tbody tr th {\n",
       "        vertical-align: top;\n",
       "    }\n",
       "\n",
       "    .dataframe thead th {\n",
       "        text-align: right;\n",
       "    }\n",
       "</style>\n",
       "<table border=\"1\" class=\"dataframe\">\n",
       "  <thead>\n",
       "    <tr style=\"text-align: right;\">\n",
       "      <th></th>\n",
       "      <th>DATE</th>\n",
       "      <th>AWND</th>\n",
       "      <th>FMTM</th>\n",
       "      <th>PRCP</th>\n",
       "      <th>SNOW</th>\n",
       "      <th>TMAX</th>\n",
       "      <th>TMIN</th>\n",
       "    </tr>\n",
       "  </thead>\n",
       "  <tbody>\n",
       "    <tr>\n",
       "      <th>112</th>\n",
       "      <td>1990-04-23</td>\n",
       "      <td>NaN</td>\n",
       "      <td>NaN</td>\n",
       "      <td>8.6</td>\n",
       "      <td>0.0</td>\n",
       "      <td>27.2</td>\n",
       "      <td>8.9</td>\n",
       "    </tr>\n",
       "    <tr>\n",
       "      <th>113</th>\n",
       "      <td>1990-04-24</td>\n",
       "      <td>NaN</td>\n",
       "      <td>NaN</td>\n",
       "      <td>3.6</td>\n",
       "      <td>0.0</td>\n",
       "      <td>27.8</td>\n",
       "      <td>14.4</td>\n",
       "    </tr>\n",
       "    <tr>\n",
       "      <th>114</th>\n",
       "      <td>1990-04-25</td>\n",
       "      <td>NaN</td>\n",
       "      <td>NaN</td>\n",
       "      <td>0.0</td>\n",
       "      <td>0.0</td>\n",
       "      <td>31.1</td>\n",
       "      <td>13.3</td>\n",
       "    </tr>\n",
       "    <tr>\n",
       "      <th>115</th>\n",
       "      <td>1990-04-26</td>\n",
       "      <td>NaN</td>\n",
       "      <td>NaN</td>\n",
       "      <td>5.1</td>\n",
       "      <td>0.0</td>\n",
       "      <td>27.8</td>\n",
       "      <td>15.6</td>\n",
       "    </tr>\n",
       "    <tr>\n",
       "      <th>151</th>\n",
       "      <td>1990-06-01</td>\n",
       "      <td>NaN</td>\n",
       "      <td>NaN</td>\n",
       "      <td>0.0</td>\n",
       "      <td>0.0</td>\n",
       "      <td>25.0</td>\n",
       "      <td>11.1</td>\n",
       "    </tr>\n",
       "    <tr>\n",
       "      <th>...</th>\n",
       "      <td>...</td>\n",
       "      <td>...</td>\n",
       "      <td>...</td>\n",
       "      <td>...</td>\n",
       "      <td>...</td>\n",
       "      <td>...</td>\n",
       "      <td>...</td>\n",
       "    </tr>\n",
       "    <tr>\n",
       "      <th>12655</th>\n",
       "      <td>2024-09-26</td>\n",
       "      <td>1.7</td>\n",
       "      <td>NaN</td>\n",
       "      <td>0.0</td>\n",
       "      <td>NaN</td>\n",
       "      <td>26.1</td>\n",
       "      <td>8.3</td>\n",
       "    </tr>\n",
       "    <tr>\n",
       "      <th>12656</th>\n",
       "      <td>2024-09-27</td>\n",
       "      <td>3.3</td>\n",
       "      <td>NaN</td>\n",
       "      <td>0.0</td>\n",
       "      <td>NaN</td>\n",
       "      <td>26.1</td>\n",
       "      <td>10.6</td>\n",
       "    </tr>\n",
       "    <tr>\n",
       "      <th>12657</th>\n",
       "      <td>2024-09-28</td>\n",
       "      <td>2.0</td>\n",
       "      <td>NaN</td>\n",
       "      <td>0.0</td>\n",
       "      <td>NaN</td>\n",
       "      <td>26.7</td>\n",
       "      <td>10.6</td>\n",
       "    </tr>\n",
       "    <tr>\n",
       "      <th>12659</th>\n",
       "      <td>2024-09-30</td>\n",
       "      <td>3.3</td>\n",
       "      <td>NaN</td>\n",
       "      <td>0.0</td>\n",
       "      <td>NaN</td>\n",
       "      <td>26.1</td>\n",
       "      <td>7.8</td>\n",
       "    </tr>\n",
       "    <tr>\n",
       "      <th>12681</th>\n",
       "      <td>2024-10-22</td>\n",
       "      <td>4.2</td>\n",
       "      <td>NaN</td>\n",
       "      <td>5.6</td>\n",
       "      <td>NaN</td>\n",
       "      <td>25.0</td>\n",
       "      <td>11.7</td>\n",
       "    </tr>\n",
       "  </tbody>\n",
       "</table>\n",
       "<p>1526 rows × 7 columns</p>\n",
       "</div>"
      ],
      "text/plain": [
       "             DATE  AWND  FMTM  PRCP  SNOW  TMAX  TMIN\n",
       "112    1990-04-23   NaN   NaN   8.6   0.0  27.2   8.9\n",
       "113    1990-04-24   NaN   NaN   3.6   0.0  27.8  14.4\n",
       "114    1990-04-25   NaN   NaN   0.0   0.0  31.1  13.3\n",
       "115    1990-04-26   NaN   NaN   5.1   0.0  27.8  15.6\n",
       "151    1990-06-01   NaN   NaN   0.0   0.0  25.0  11.1\n",
       "...           ...   ...   ...   ...   ...   ...   ...\n",
       "12655  2024-09-26   1.7   NaN   0.0   NaN  26.1   8.3\n",
       "12656  2024-09-27   3.3   NaN   0.0   NaN  26.1  10.6\n",
       "12657  2024-09-28   2.0   NaN   0.0   NaN  26.7  10.6\n",
       "12659  2024-09-30   3.3   NaN   0.0   NaN  26.1   7.8\n",
       "12681  2024-10-22   4.2   NaN   5.6   NaN  25.0  11.7\n",
       "\n",
       "[1526 rows x 7 columns]"
      ]
     },
     "execution_count": 22,
     "metadata": {},
     "output_type": "execute_result"
    }
   ],
   "source": [
    "hot_temps = data.loc[data[\"TMAX\"] >= 25]\n",
    "hot_temps"
   ]
  },
  {
   "cell_type": "markdown",
   "metadata": {},
   "source": [
    "It is also possible to combine multiple criteria at the same time. Combining multiple criteria can be done using the `&` (and) or the `|` (or) operators. Notice, that it is often useful to separate the different conditional clauses with parentheses `()`. Let's select rows having daily maximum temperatures above 20 degrees from 2010 onwards."
   ]
  },
  {
   "cell_type": "code",
   "execution_count": 23,
   "metadata": {},
   "outputs": [
    {
     "data": {
      "text/html": [
       "<div>\n",
       "<style scoped>\n",
       "    .dataframe tbody tr th:only-of-type {\n",
       "        vertical-align: middle;\n",
       "    }\n",
       "\n",
       "    .dataframe tbody tr th {\n",
       "        vertical-align: top;\n",
       "    }\n",
       "\n",
       "    .dataframe thead th {\n",
       "        text-align: right;\n",
       "    }\n",
       "</style>\n",
       "<table border=\"1\" class=\"dataframe\">\n",
       "  <thead>\n",
       "    <tr style=\"text-align: right;\">\n",
       "      <th></th>\n",
       "      <th>DATE</th>\n",
       "      <th>AWND</th>\n",
       "      <th>FMTM</th>\n",
       "      <th>PRCP</th>\n",
       "      <th>SNOW</th>\n",
       "      <th>TMAX</th>\n",
       "      <th>TMIN</th>\n",
       "    </tr>\n",
       "  </thead>\n",
       "  <tbody>\n",
       "    <tr>\n",
       "      <th>7392</th>\n",
       "      <td>2010-03-31</td>\n",
       "      <td>5.2</td>\n",
       "      <td>907.0</td>\n",
       "      <td>0.0</td>\n",
       "      <td>NaN</td>\n",
       "      <td>22.8</td>\n",
       "      <td>8.3</td>\n",
       "    </tr>\n",
       "    <tr>\n",
       "      <th>7394</th>\n",
       "      <td>2010-04-02</td>\n",
       "      <td>5.2</td>\n",
       "      <td>1824.0</td>\n",
       "      <td>0.0</td>\n",
       "      <td>NaN</td>\n",
       "      <td>25.6</td>\n",
       "      <td>7.8</td>\n",
       "    </tr>\n",
       "    <tr>\n",
       "      <th>7406</th>\n",
       "      <td>2010-04-14</td>\n",
       "      <td>4.1</td>\n",
       "      <td>1015.0</td>\n",
       "      <td>0.8</td>\n",
       "      <td>NaN</td>\n",
       "      <td>22.2</td>\n",
       "      <td>6.1</td>\n",
       "    </tr>\n",
       "    <tr>\n",
       "      <th>7407</th>\n",
       "      <td>2010-04-15</td>\n",
       "      <td>5.8</td>\n",
       "      <td>1823.0</td>\n",
       "      <td>1.5</td>\n",
       "      <td>NaN</td>\n",
       "      <td>22.8</td>\n",
       "      <td>10.0</td>\n",
       "    </tr>\n",
       "    <tr>\n",
       "      <th>7415</th>\n",
       "      <td>2010-04-23</td>\n",
       "      <td>2.2</td>\n",
       "      <td>1251.0</td>\n",
       "      <td>0.0</td>\n",
       "      <td>NaN</td>\n",
       "      <td>20.0</td>\n",
       "      <td>-1.7</td>\n",
       "    </tr>\n",
       "    <tr>\n",
       "      <th>...</th>\n",
       "      <td>...</td>\n",
       "      <td>...</td>\n",
       "      <td>...</td>\n",
       "      <td>...</td>\n",
       "      <td>...</td>\n",
       "      <td>...</td>\n",
       "      <td>...</td>\n",
       "    </tr>\n",
       "    <tr>\n",
       "      <th>12677</th>\n",
       "      <td>2024-10-18</td>\n",
       "      <td>3.3</td>\n",
       "      <td>NaN</td>\n",
       "      <td>0.0</td>\n",
       "      <td>NaN</td>\n",
       "      <td>23.9</td>\n",
       "      <td>9.4</td>\n",
       "    </tr>\n",
       "    <tr>\n",
       "      <th>12679</th>\n",
       "      <td>2024-10-20</td>\n",
       "      <td>5.0</td>\n",
       "      <td>NaN</td>\n",
       "      <td>0.0</td>\n",
       "      <td>NaN</td>\n",
       "      <td>21.7</td>\n",
       "      <td>11.1</td>\n",
       "    </tr>\n",
       "    <tr>\n",
       "      <th>12680</th>\n",
       "      <td>2024-10-21</td>\n",
       "      <td>3.2</td>\n",
       "      <td>NaN</td>\n",
       "      <td>0.0</td>\n",
       "      <td>NaN</td>\n",
       "      <td>20.6</td>\n",
       "      <td>11.1</td>\n",
       "    </tr>\n",
       "    <tr>\n",
       "      <th>12681</th>\n",
       "      <td>2024-10-22</td>\n",
       "      <td>4.2</td>\n",
       "      <td>NaN</td>\n",
       "      <td>5.6</td>\n",
       "      <td>NaN</td>\n",
       "      <td>25.0</td>\n",
       "      <td>11.7</td>\n",
       "    </tr>\n",
       "    <tr>\n",
       "      <th>12689</th>\n",
       "      <td>2024-10-30</td>\n",
       "      <td>3.8</td>\n",
       "      <td>NaN</td>\n",
       "      <td>5.3</td>\n",
       "      <td>NaN</td>\n",
       "      <td>20.0</td>\n",
       "      <td>6.7</td>\n",
       "    </tr>\n",
       "  </tbody>\n",
       "</table>\n",
       "<p>1552 rows × 7 columns</p>\n",
       "</div>"
      ],
      "text/plain": [
       "             DATE  AWND    FMTM  PRCP  SNOW  TMAX  TMIN\n",
       "7392   2010-03-31   5.2   907.0   0.0   NaN  22.8   8.3\n",
       "7394   2010-04-02   5.2  1824.0   0.0   NaN  25.6   7.8\n",
       "7406   2010-04-14   4.1  1015.0   0.8   NaN  22.2   6.1\n",
       "7407   2010-04-15   5.8  1823.0   1.5   NaN  22.8  10.0\n",
       "7415   2010-04-23   2.2  1251.0   0.0   NaN  20.0  -1.7\n",
       "...           ...   ...     ...   ...   ...   ...   ...\n",
       "12677  2024-10-18   3.3     NaN   0.0   NaN  23.9   9.4\n",
       "12679  2024-10-20   5.0     NaN   0.0   NaN  21.7  11.1\n",
       "12680  2024-10-21   3.2     NaN   0.0   NaN  20.6  11.1\n",
       "12681  2024-10-22   4.2     NaN   5.6   NaN  25.0  11.7\n",
       "12689  2024-10-30   3.8     NaN   5.3   NaN  20.0   6.7\n",
       "\n",
       "[1552 rows x 7 columns]"
      ]
     },
     "execution_count": 23,
     "metadata": {},
     "output_type": "execute_result"
    }
   ],
   "source": [
    "warm_temps = data.loc[(data[\"TMAX\"] >= 20) & (data[\"DATE\"] >= '2010-01-01')]\n",
    "warm_temps"
   ]
  },
  {
   "cell_type": "markdown",
   "metadata": {},
   "source": [
    "## Unique values\n",
    "\n",
    "Sometimes it is useful to extract the unique values that you have in your column. We can do that by using `.unique()` method."
   ]
  },
  {
   "cell_type": "code",
   "execution_count": 24,
   "metadata": {},
   "outputs": [
    {
     "data": {
      "text/plain": [
       "array([  nan,   30., 1944., ..., 1923.,  538.,  936.])"
      ]
     },
     "execution_count": 24,
     "metadata": {},
     "output_type": "execute_result"
    }
   ],
   "source": [
    "data[\"FMTM\"].unique()"
   ]
  },
  {
   "cell_type": "markdown",
   "metadata": {},
   "source": [
    "As a result we get an array of unique values in that column. In the case of wind speed, this might not be that interesting, but in other cases this can be more useful. We can also directly access the number of unique values using the `.nunique()` method."
   ]
  },
  {
   "cell_type": "code",
   "execution_count": 25,
   "metadata": {},
   "outputs": [
    {
     "name": "stdout",
     "output_type": "stream",
     "text": [
      "There were 1266 days with unique maximum wind speed.\n"
     ]
    }
   ],
   "source": [
    "print(f\"There were {data['FMTM'].nunique()} days with unique maximum wind speed.\")"
   ]
  },
  {
   "cell_type": "markdown",
   "metadata": {},
   "source": [
    "## Descriptive statistics\n",
    "\n",
    "The DataFrame and Series data types in pandas contain useful methods for getting summary statistics. Available methods include `.mean()`, `.median()`, `.min()`, `.max()`, and `.std()` (the standard deviation). The statistics can be calculated for a single column (i.e., a `Series`) or for all columns at once for the entire DataFrame. To check the maximum temperature in our DataFrame, we can do following:"
   ]
  },
  {
   "cell_type": "code",
   "execution_count": 26,
   "metadata": {},
   "outputs": [
    {
     "data": {
      "text/plain": [
       "36.7"
      ]
     },
     "execution_count": 26,
     "metadata": {},
     "output_type": "execute_result"
    }
   ],
   "source": [
    "data['TMAX'].max()"
   ]
  },
  {
   "cell_type": "markdown",
   "metadata": {},
   "source": [
    "The output in this case will be a single floating point number presenting the maximum of the observed daily maximum temperature. To get the maximum statistics for all numerical columns in the DataFrame, we can use `.max()` in a similar manner."
   ]
  },
  {
   "cell_type": "code",
   "execution_count": 27,
   "metadata": {},
   "outputs": [
    {
     "data": {
      "text/plain": [
       "AWND      16.5\n",
       "FMTM    9999.0\n",
       "PRCP     151.4\n",
       "SNOW     673.0\n",
       "TMAX      36.7\n",
       "TMIN      23.9\n",
       "dtype: float64"
      ]
     },
     "execution_count": 27,
     "metadata": {},
     "output_type": "execute_result"
    }
   ],
   "source": [
    "data[['AWND','FMTM','PRCP','SNOW','TMAX','TMIN']].max()"
   ]
  },
  {
   "cell_type": "markdown",
   "metadata": {},
   "source": [
    "For an overview of the basic statistics for all attributes in the data, we can use the `.describe()` method."
   ]
  },
  {
   "cell_type": "code",
   "execution_count": 28,
   "metadata": {},
   "outputs": [
    {
     "data": {
      "text/html": [
       "<div>\n",
       "<style scoped>\n",
       "    .dataframe tbody tr th:only-of-type {\n",
       "        vertical-align: middle;\n",
       "    }\n",
       "\n",
       "    .dataframe tbody tr th {\n",
       "        vertical-align: top;\n",
       "    }\n",
       "\n",
       "    .dataframe thead th {\n",
       "        text-align: right;\n",
       "    }\n",
       "</style>\n",
       "<table border=\"1\" class=\"dataframe\">\n",
       "  <thead>\n",
       "    <tr style=\"text-align: right;\">\n",
       "      <th></th>\n",
       "      <th>AWND</th>\n",
       "      <th>FMTM</th>\n",
       "      <th>PRCP</th>\n",
       "      <th>SNOW</th>\n",
       "      <th>TMAX</th>\n",
       "      <th>TMIN</th>\n",
       "    </tr>\n",
       "  </thead>\n",
       "  <tbody>\n",
       "    <tr>\n",
       "      <th>count</th>\n",
       "      <td>8836.000000</td>\n",
       "      <td>4591.000000</td>\n",
       "      <td>12644.000000</td>\n",
       "      <td>3896.000000</td>\n",
       "      <td>12744.000000</td>\n",
       "      <td>12744.000000</td>\n",
       "    </tr>\n",
       "    <tr>\n",
       "      <th>mean</th>\n",
       "      <td>4.357198</td>\n",
       "      <td>1371.487475</td>\n",
       "      <td>1.851479</td>\n",
       "      <td>13.318018</td>\n",
       "      <td>9.814422</td>\n",
       "      <td>0.785852</td>\n",
       "    </tr>\n",
       "    <tr>\n",
       "      <th>std</th>\n",
       "      <td>1.971740</td>\n",
       "      <td>716.514153</td>\n",
       "      <td>5.220193</td>\n",
       "      <td>40.367303</td>\n",
       "      <td>11.895030</td>\n",
       "      <td>10.192673</td>\n",
       "    </tr>\n",
       "    <tr>\n",
       "      <th>min</th>\n",
       "      <td>0.400000</td>\n",
       "      <td>0.000000</td>\n",
       "      <td>0.000000</td>\n",
       "      <td>0.000000</td>\n",
       "      <td>-26.700000</td>\n",
       "      <td>-31.600000</td>\n",
       "    </tr>\n",
       "    <tr>\n",
       "      <th>25%</th>\n",
       "      <td>2.900000</td>\n",
       "      <td>1043.000000</td>\n",
       "      <td>0.000000</td>\n",
       "      <td>0.000000</td>\n",
       "      <td>0.000000</td>\n",
       "      <td>-6.600000</td>\n",
       "    </tr>\n",
       "    <tr>\n",
       "      <th>50%</th>\n",
       "      <td>4.000000</td>\n",
       "      <td>1430.000000</td>\n",
       "      <td>0.000000</td>\n",
       "      <td>0.000000</td>\n",
       "      <td>9.400000</td>\n",
       "      <td>1.100000</td>\n",
       "    </tr>\n",
       "    <tr>\n",
       "      <th>75%</th>\n",
       "      <td>5.400000</td>\n",
       "      <td>1732.000000</td>\n",
       "      <td>1.000000</td>\n",
       "      <td>0.000000</td>\n",
       "      <td>20.600000</td>\n",
       "      <td>9.400000</td>\n",
       "    </tr>\n",
       "    <tr>\n",
       "      <th>max</th>\n",
       "      <td>16.500000</td>\n",
       "      <td>9999.000000</td>\n",
       "      <td>151.400000</td>\n",
       "      <td>673.000000</td>\n",
       "      <td>36.700000</td>\n",
       "      <td>23.900000</td>\n",
       "    </tr>\n",
       "  </tbody>\n",
       "</table>\n",
       "</div>"
      ],
      "text/plain": [
       "              AWND         FMTM          PRCP         SNOW          TMAX  \\\n",
       "count  8836.000000  4591.000000  12644.000000  3896.000000  12744.000000   \n",
       "mean      4.357198  1371.487475      1.851479    13.318018      9.814422   \n",
       "std       1.971740   716.514153      5.220193    40.367303     11.895030   \n",
       "min       0.400000     0.000000      0.000000     0.000000    -26.700000   \n",
       "25%       2.900000  1043.000000      0.000000     0.000000      0.000000   \n",
       "50%       4.000000  1430.000000      0.000000     0.000000      9.400000   \n",
       "75%       5.400000  1732.000000      1.000000     0.000000     20.600000   \n",
       "max      16.500000  9999.000000    151.400000   673.000000     36.700000   \n",
       "\n",
       "               TMIN  \n",
       "count  12744.000000  \n",
       "mean       0.785852  \n",
       "std       10.192673  \n",
       "min      -31.600000  \n",
       "25%       -6.600000  \n",
       "50%        1.100000  \n",
       "75%        9.400000  \n",
       "max       23.900000  "
      ]
     },
     "execution_count": 28,
     "metadata": {},
     "output_type": "execute_result"
    }
   ],
   "source": [
    "data[['AWND','FMTM','PRCP','SNOW','TMAX','TMIN']].describe()"
   ]
  },
  {
   "cell_type": "markdown",
   "metadata": {},
   "source": [
    "## Data type conversions\n",
    "When doing data analysis, another quite typical operation that needs to be done is to convert values in a column from one data type to another, such as from floating point values to integers. For values stored in a pandas Series, we can use the `.astype()` method for converting data types. Let's explore this by converting the `FMTM` column (type `float64`) to integers (type `int64`). Let's first have a look at the existing data. Since the `FMTM` column has many missing values, so we use `.notna()` to select the rows with valid data only."
   ]
  },
  {
   "cell_type": "code",
   "execution_count": 29,
   "metadata": {},
   "outputs": [
    {
     "data": {
      "text/plain": [
       "3896      30.0\n",
       "3897    1944.0\n",
       "3898     307.0\n",
       "3899    1333.0\n",
       "3900    1743.0\n",
       "Name: FMTM, dtype: float64"
      ]
     },
     "execution_count": 29,
     "metadata": {},
     "output_type": "execute_result"
    }
   ],
   "source": [
    "data.loc[data['FMTM'].notna(), \"FMTM\"].head()"
   ]
  },
  {
   "cell_type": "markdown",
   "metadata": {},
   "source": [
    "Now we can easily convert those decimal values to integers using `.astype('Int64')`."
   ]
  },
  {
   "cell_type": "code",
   "execution_count": 30,
   "metadata": {},
   "outputs": [
    {
     "data": {
      "text/plain": [
       "3896      30\n",
       "3897    1944\n",
       "3898     307\n",
       "3899    1333\n",
       "3900    1743\n",
       "Name: FMTM, dtype: Int64"
      ]
     },
     "execution_count": 30,
     "metadata": {},
     "output_type": "execute_result"
    }
   ],
   "source": [
    "data['FMTM'] = data['FMTM'].astype('Int64')\n",
    "data.loc[data['FMTM'].notna(), \"FMTM\"].head()"
   ]
  },
  {
   "cell_type": "markdown",
   "metadata": {},
   "source": [
    "Great! As we can see the values were converted to integers. But, notice that the new data type is `Int64`, not `int64`. The reason why we use `Int64` is because the `FMTM` column has missing or NaN values. Int64 is a pandas-specific **nullable integer type** introduced to handle missing values in integer columns."
   ]
  },
  {
   "cell_type": "markdown",
   "metadata": {},
   "source": [
    "## Dealing with missing data\n",
    "\n",
    "As you may have noticed, the maximum value of `FMTM` is 9999, which is not a valid time (HHMM). It should be treated as missing or NaN values, instead. Having missing data in your data file is quite common and typically you want to deal with these values somehow. The NaN values may be left empty in some places, and may be filled with certain numbers, e.g., 9999. Below, we will replace the values of 9999 with NaN values. This can be accomplished in two different ways."
   ]
  },
  {
   "cell_type": "markdown",
   "metadata": {},
   "source": [
    "We can either replace the 9999 values in the `data` DataFrame with np.nan (np represent numpy), or designate the missing values when reading in the data using `.read_csv()`."
   ]
  },
  {
   "cell_type": "code",
   "execution_count": 31,
   "metadata": {},
   "outputs": [
    {
     "data": {
      "text/html": [
       "<div>\n",
       "<style scoped>\n",
       "    .dataframe tbody tr th:only-of-type {\n",
       "        vertical-align: middle;\n",
       "    }\n",
       "\n",
       "    .dataframe tbody tr th {\n",
       "        vertical-align: top;\n",
       "    }\n",
       "\n",
       "    .dataframe thead th {\n",
       "        text-align: right;\n",
       "    }\n",
       "</style>\n",
       "<table border=\"1\" class=\"dataframe\">\n",
       "  <thead>\n",
       "    <tr style=\"text-align: right;\">\n",
       "      <th></th>\n",
       "      <th>AWND</th>\n",
       "      <th>FMTM</th>\n",
       "      <th>PRCP</th>\n",
       "      <th>SNOW</th>\n",
       "      <th>TMAX</th>\n",
       "      <th>TMIN</th>\n",
       "    </tr>\n",
       "  </thead>\n",
       "  <tbody>\n",
       "    <tr>\n",
       "      <th>count</th>\n",
       "      <td>8836.000000</td>\n",
       "      <td>4583.0</td>\n",
       "      <td>12644.000000</td>\n",
       "      <td>3896.000000</td>\n",
       "      <td>12744.000000</td>\n",
       "      <td>12744.000000</td>\n",
       "    </tr>\n",
       "    <tr>\n",
       "      <th>mean</th>\n",
       "      <td>4.357198</td>\n",
       "      <td>1356.427449</td>\n",
       "      <td>1.851479</td>\n",
       "      <td>13.318018</td>\n",
       "      <td>9.814422</td>\n",
       "      <td>0.785852</td>\n",
       "    </tr>\n",
       "    <tr>\n",
       "      <th>std</th>\n",
       "      <td>1.971740</td>\n",
       "      <td>619.760534</td>\n",
       "      <td>5.220193</td>\n",
       "      <td>40.367303</td>\n",
       "      <td>11.895030</td>\n",
       "      <td>10.192673</td>\n",
       "    </tr>\n",
       "    <tr>\n",
       "      <th>min</th>\n",
       "      <td>0.400000</td>\n",
       "      <td>0.0</td>\n",
       "      <td>0.000000</td>\n",
       "      <td>0.000000</td>\n",
       "      <td>-26.700000</td>\n",
       "      <td>-31.600000</td>\n",
       "    </tr>\n",
       "    <tr>\n",
       "      <th>25%</th>\n",
       "      <td>2.900000</td>\n",
       "      <td>1042.5</td>\n",
       "      <td>0.000000</td>\n",
       "      <td>0.000000</td>\n",
       "      <td>0.000000</td>\n",
       "      <td>-6.600000</td>\n",
       "    </tr>\n",
       "    <tr>\n",
       "      <th>50%</th>\n",
       "      <td>4.000000</td>\n",
       "      <td>1430.0</td>\n",
       "      <td>0.000000</td>\n",
       "      <td>0.000000</td>\n",
       "      <td>9.400000</td>\n",
       "      <td>1.100000</td>\n",
       "    </tr>\n",
       "    <tr>\n",
       "      <th>75%</th>\n",
       "      <td>5.400000</td>\n",
       "      <td>1732.0</td>\n",
       "      <td>1.000000</td>\n",
       "      <td>0.000000</td>\n",
       "      <td>20.600000</td>\n",
       "      <td>9.400000</td>\n",
       "    </tr>\n",
       "    <tr>\n",
       "      <th>max</th>\n",
       "      <td>16.500000</td>\n",
       "      <td>2359.0</td>\n",
       "      <td>151.400000</td>\n",
       "      <td>673.000000</td>\n",
       "      <td>36.700000</td>\n",
       "      <td>23.900000</td>\n",
       "    </tr>\n",
       "  </tbody>\n",
       "</table>\n",
       "</div>"
      ],
      "text/plain": [
       "              AWND         FMTM          PRCP         SNOW          TMAX  \\\n",
       "count  8836.000000       4583.0  12644.000000  3896.000000  12744.000000   \n",
       "mean      4.357198  1356.427449      1.851479    13.318018      9.814422   \n",
       "std       1.971740   619.760534      5.220193    40.367303     11.895030   \n",
       "min       0.400000          0.0      0.000000     0.000000    -26.700000   \n",
       "25%       2.900000       1042.5      0.000000     0.000000      0.000000   \n",
       "50%       4.000000       1430.0      0.000000     0.000000      9.400000   \n",
       "75%       5.400000       1732.0      1.000000     0.000000     20.600000   \n",
       "max      16.500000       2359.0    151.400000   673.000000     36.700000   \n",
       "\n",
       "               TMIN  \n",
       "count  12744.000000  \n",
       "mean       0.785852  \n",
       "std       10.192673  \n",
       "min      -31.600000  \n",
       "25%       -6.600000  \n",
       "50%        1.100000  \n",
       "75%        9.400000  \n",
       "max       23.900000  "
      ]
     },
     "execution_count": 31,
     "metadata": {},
     "output_type": "execute_result"
    }
   ],
   "source": [
    "data = data.replace(9999, np.nan)\n",
    "\n",
    "# To verify that the missing values are removed:\n",
    "data[['AWND','FMTM','PRCP','SNOW','TMAX','TMIN']].describe()"
   ]
  },
  {
   "cell_type": "markdown",
   "metadata": {},
   "source": [
    "Or, do everything all at once within `.read_csv()`:"
   ]
  },
  {
   "cell_type": "code",
   "execution_count": 32,
   "metadata": {},
   "outputs": [
    {
     "data": {
      "text/html": [
       "<div>\n",
       "<style scoped>\n",
       "    .dataframe tbody tr th:only-of-type {\n",
       "        vertical-align: middle;\n",
       "    }\n",
       "\n",
       "    .dataframe tbody tr th {\n",
       "        vertical-align: top;\n",
       "    }\n",
       "\n",
       "    .dataframe thead th {\n",
       "        text-align: right;\n",
       "    }\n",
       "</style>\n",
       "<table border=\"1\" class=\"dataframe\">\n",
       "  <thead>\n",
       "    <tr style=\"text-align: right;\">\n",
       "      <th></th>\n",
       "      <th>AWND</th>\n",
       "      <th>FMTM</th>\n",
       "      <th>PRCP</th>\n",
       "      <th>SNOW</th>\n",
       "      <th>TMAX</th>\n",
       "      <th>TMIN</th>\n",
       "    </tr>\n",
       "  </thead>\n",
       "  <tbody>\n",
       "    <tr>\n",
       "      <th>count</th>\n",
       "      <td>8836.000000</td>\n",
       "      <td>4583.0</td>\n",
       "      <td>12644.000000</td>\n",
       "      <td>3896.000000</td>\n",
       "      <td>12744.000000</td>\n",
       "      <td>12744.000000</td>\n",
       "    </tr>\n",
       "    <tr>\n",
       "      <th>mean</th>\n",
       "      <td>4.357198</td>\n",
       "      <td>1356.427449</td>\n",
       "      <td>1.851479</td>\n",
       "      <td>13.318018</td>\n",
       "      <td>9.814422</td>\n",
       "      <td>0.785852</td>\n",
       "    </tr>\n",
       "    <tr>\n",
       "      <th>std</th>\n",
       "      <td>1.971740</td>\n",
       "      <td>619.760534</td>\n",
       "      <td>5.220193</td>\n",
       "      <td>40.367303</td>\n",
       "      <td>11.895030</td>\n",
       "      <td>10.192673</td>\n",
       "    </tr>\n",
       "    <tr>\n",
       "      <th>min</th>\n",
       "      <td>0.400000</td>\n",
       "      <td>0.0</td>\n",
       "      <td>0.000000</td>\n",
       "      <td>0.000000</td>\n",
       "      <td>-26.700000</td>\n",
       "      <td>-31.600000</td>\n",
       "    </tr>\n",
       "    <tr>\n",
       "      <th>25%</th>\n",
       "      <td>2.900000</td>\n",
       "      <td>1042.5</td>\n",
       "      <td>0.000000</td>\n",
       "      <td>0.000000</td>\n",
       "      <td>0.000000</td>\n",
       "      <td>-6.600000</td>\n",
       "    </tr>\n",
       "    <tr>\n",
       "      <th>50%</th>\n",
       "      <td>4.000000</td>\n",
       "      <td>1430.0</td>\n",
       "      <td>0.000000</td>\n",
       "      <td>0.000000</td>\n",
       "      <td>9.400000</td>\n",
       "      <td>1.100000</td>\n",
       "    </tr>\n",
       "    <tr>\n",
       "      <th>75%</th>\n",
       "      <td>5.400000</td>\n",
       "      <td>1732.0</td>\n",
       "      <td>1.000000</td>\n",
       "      <td>0.000000</td>\n",
       "      <td>20.600000</td>\n",
       "      <td>9.400000</td>\n",
       "    </tr>\n",
       "    <tr>\n",
       "      <th>max</th>\n",
       "      <td>16.500000</td>\n",
       "      <td>2359.0</td>\n",
       "      <td>151.400000</td>\n",
       "      <td>673.000000</td>\n",
       "      <td>36.700000</td>\n",
       "      <td>23.900000</td>\n",
       "    </tr>\n",
       "  </tbody>\n",
       "</table>\n",
       "</div>"
      ],
      "text/plain": [
       "              AWND         FMTM          PRCP         SNOW          TMAX  \\\n",
       "count  8836.000000       4583.0  12644.000000  3896.000000  12744.000000   \n",
       "mean      4.357198  1356.427449      1.851479    13.318018      9.814422   \n",
       "std       1.971740   619.760534      5.220193    40.367303     11.895030   \n",
       "min       0.400000          0.0      0.000000     0.000000    -26.700000   \n",
       "25%       2.900000       1042.5      0.000000     0.000000      0.000000   \n",
       "50%       4.000000       1430.0      0.000000     0.000000      9.400000   \n",
       "75%       5.400000       1732.0      1.000000     0.000000     20.600000   \n",
       "max      16.500000       2359.0    151.400000   673.000000     36.700000   \n",
       "\n",
       "               TMIN  \n",
       "count  12744.000000  \n",
       "mean       0.785852  \n",
       "std       10.192673  \n",
       "min      -31.600000  \n",
       "25%       -6.600000  \n",
       "50%        1.100000  \n",
       "75%        9.400000  \n",
       "max       23.900000  "
      ]
     },
     "execution_count": 32,
     "metadata": {},
     "output_type": "execute_result"
    }
   ],
   "source": [
    "data = pd.read_csv(\"../data/GHCNd_Houghton.csv\",skiprows=9,dtype={'FMTM':'Int64'},na_values=[9999])\n",
    "\n",
    "data[['AWND','FMTM','PRCP','SNOW','TMAX','TMIN']].describe()"
   ]
  },
  {
   "cell_type": "markdown",
   "metadata": {},
   "source": [
    "In fact, most columns in `data` DataFrame have missing values. Common procedures to deal with NaN values are to either remove them or replace (fill) them with some other value. In pandas, both of these options are easy to do. \n",
    "\n",
    "Let's now see how we can remove the missing data values (i.e., clean the data) using the `.dropna()` function. Inside the `.dropna()` function you can pass a list of column(s) in which the NaN values should be processed by using the `subset` parameter.\n",
    "\n",
    "For example, we'd like to remove the rows with NaN values in the `SNOW` column. We can verify the result using the `.hasnans` attribute, which will be either `True` or `False` depending on whether or not the Series contains any NaN values."
   ]
  },
  {
   "cell_type": "code",
   "execution_count": 33,
   "metadata": {},
   "outputs": [
    {
     "data": {
      "text/plain": [
       "False"
      ]
     },
     "execution_count": 33,
     "metadata": {},
     "output_type": "execute_result"
    }
   ],
   "source": [
    "data_snow_valid = data.dropna(subset=['SNOW'])\n",
    "data_snow_valid['SNOW'].hasnans"
   ]
  },
  {
   "cell_type": "markdown",
   "metadata": {},
   "source": [
    "Of course, by dropping rows using `.dropna()` you naturally lose data (rows), which might not be an optimal solution for all cases. Because of this, pandas also provides an option to fill the NaN values with some other value using the `.fillna()` function. Let's instead fill the missing values in our data set the with value `-9999`. Note that we are not giving the `subset` parameter this time."
   ]
  },
  {
   "cell_type": "code",
   "execution_count": 34,
   "metadata": {},
   "outputs": [
    {
     "data": {
      "text/html": [
       "<div>\n",
       "<style scoped>\n",
       "    .dataframe tbody tr th:only-of-type {\n",
       "        vertical-align: middle;\n",
       "    }\n",
       "\n",
       "    .dataframe tbody tr th {\n",
       "        vertical-align: top;\n",
       "    }\n",
       "\n",
       "    .dataframe thead th {\n",
       "        text-align: right;\n",
       "    }\n",
       "</style>\n",
       "<table border=\"1\" class=\"dataframe\">\n",
       "  <thead>\n",
       "    <tr style=\"text-align: right;\">\n",
       "      <th></th>\n",
       "      <th>DATE</th>\n",
       "      <th>AWND</th>\n",
       "      <th>FMTM</th>\n",
       "      <th>PRCP</th>\n",
       "      <th>SNOW</th>\n",
       "      <th>TMAX</th>\n",
       "      <th>TMIN</th>\n",
       "    </tr>\n",
       "  </thead>\n",
       "  <tbody>\n",
       "    <tr>\n",
       "      <th>0</th>\n",
       "      <td>1990-01-01</td>\n",
       "      <td>-9999.0</td>\n",
       "      <td>-9999</td>\n",
       "      <td>1.0</td>\n",
       "      <td>18.0</td>\n",
       "      <td>-3.9</td>\n",
       "      <td>-6.1</td>\n",
       "    </tr>\n",
       "    <tr>\n",
       "      <th>1</th>\n",
       "      <td>1990-01-02</td>\n",
       "      <td>-9999.0</td>\n",
       "      <td>-9999</td>\n",
       "      <td>0.0</td>\n",
       "      <td>0.0</td>\n",
       "      <td>1.1</td>\n",
       "      <td>-5.6</td>\n",
       "    </tr>\n",
       "    <tr>\n",
       "      <th>2</th>\n",
       "      <td>1990-01-03</td>\n",
       "      <td>-9999.0</td>\n",
       "      <td>-9999</td>\n",
       "      <td>0.0</td>\n",
       "      <td>0.0</td>\n",
       "      <td>2.2</td>\n",
       "      <td>-5.0</td>\n",
       "    </tr>\n",
       "    <tr>\n",
       "      <th>3</th>\n",
       "      <td>1990-01-04</td>\n",
       "      <td>-9999.0</td>\n",
       "      <td>-9999</td>\n",
       "      <td>1.3</td>\n",
       "      <td>23.0</td>\n",
       "      <td>-1.7</td>\n",
       "      <td>-9.4</td>\n",
       "    </tr>\n",
       "    <tr>\n",
       "      <th>4</th>\n",
       "      <td>1990-01-05</td>\n",
       "      <td>-9999.0</td>\n",
       "      <td>-9999</td>\n",
       "      <td>3.0</td>\n",
       "      <td>97.0</td>\n",
       "      <td>-7.2</td>\n",
       "      <td>-10.6</td>\n",
       "    </tr>\n",
       "    <tr>\n",
       "      <th>...</th>\n",
       "      <td>...</td>\n",
       "      <td>...</td>\n",
       "      <td>...</td>\n",
       "      <td>...</td>\n",
       "      <td>...</td>\n",
       "      <td>...</td>\n",
       "      <td>...</td>\n",
       "    </tr>\n",
       "    <tr>\n",
       "      <th>12746</th>\n",
       "      <td>2024-12-26</td>\n",
       "      <td>2.7</td>\n",
       "      <td>-9999</td>\n",
       "      <td>0.0</td>\n",
       "      <td>-9999.0</td>\n",
       "      <td>2.2</td>\n",
       "      <td>-12.7</td>\n",
       "    </tr>\n",
       "    <tr>\n",
       "      <th>12747</th>\n",
       "      <td>2024-12-27</td>\n",
       "      <td>3.4</td>\n",
       "      <td>-9999</td>\n",
       "      <td>0.0</td>\n",
       "      <td>-9999.0</td>\n",
       "      <td>5.6</td>\n",
       "      <td>2.2</td>\n",
       "    </tr>\n",
       "    <tr>\n",
       "      <th>12748</th>\n",
       "      <td>2024-12-28</td>\n",
       "      <td>6.1</td>\n",
       "      <td>-9999</td>\n",
       "      <td>10.9</td>\n",
       "      <td>-9999.0</td>\n",
       "      <td>4.4</td>\n",
       "      <td>2.8</td>\n",
       "    </tr>\n",
       "    <tr>\n",
       "      <th>12749</th>\n",
       "      <td>2024-12-29</td>\n",
       "      <td>4.4</td>\n",
       "      <td>-9999</td>\n",
       "      <td>0.0</td>\n",
       "      <td>-9999.0</td>\n",
       "      <td>3.3</td>\n",
       "      <td>1.1</td>\n",
       "    </tr>\n",
       "    <tr>\n",
       "      <th>12750</th>\n",
       "      <td>2024-12-30</td>\n",
       "      <td>5.4</td>\n",
       "      <td>-9999</td>\n",
       "      <td>0.0</td>\n",
       "      <td>-9999.0</td>\n",
       "      <td>2.2</td>\n",
       "      <td>0.0</td>\n",
       "    </tr>\n",
       "  </tbody>\n",
       "</table>\n",
       "<p>12751 rows × 7 columns</p>\n",
       "</div>"
      ],
      "text/plain": [
       "             DATE    AWND   FMTM  PRCP    SNOW  TMAX  TMIN\n",
       "0      1990-01-01 -9999.0  -9999   1.0    18.0  -3.9  -6.1\n",
       "1      1990-01-02 -9999.0  -9999   0.0     0.0   1.1  -5.6\n",
       "2      1990-01-03 -9999.0  -9999   0.0     0.0   2.2  -5.0\n",
       "3      1990-01-04 -9999.0  -9999   1.3    23.0  -1.7  -9.4\n",
       "4      1990-01-05 -9999.0  -9999   3.0    97.0  -7.2 -10.6\n",
       "...           ...     ...    ...   ...     ...   ...   ...\n",
       "12746  2024-12-26     2.7  -9999   0.0 -9999.0   2.2 -12.7\n",
       "12747  2024-12-27     3.4  -9999   0.0 -9999.0   5.6   2.2\n",
       "12748  2024-12-28     6.1  -9999  10.9 -9999.0   4.4   2.8\n",
       "12749  2024-12-29     4.4  -9999   0.0 -9999.0   3.3   1.1\n",
       "12750  2024-12-30     5.4  -9999   0.0 -9999.0   2.2   0.0\n",
       "\n",
       "[12751 rows x 7 columns]"
      ]
     },
     "execution_count": 34,
     "metadata": {},
     "output_type": "execute_result"
    }
   ],
   "source": [
    "data.fillna(-9999)"
   ]
  },
  {
   "cell_type": "markdown",
   "metadata": {},
   "source": [
    "As a result we now have a DataFrame where all NaN values in the DataFrame are filled with the value -9999. As was the case for the `.dropna()` function, you can fill values in select columns by directing the `.fillna()` function to a specific column (or set of columns)."
   ]
  },
  {
   "cell_type": "code",
   "execution_count": 35,
   "metadata": {},
   "outputs": [],
   "source": [
    "data['FMTM'] = data['FMTM'].fillna(-9999)"
   ]
  },
  {
   "cell_type": "markdown",
   "metadata": {},
   "source": [
    "## Using functions with pandas\n",
    "\n",
    "After cleaning the data, we are often interested in using the DataFrame to make certain calculations or analysis. For example, we would like to convert the temperatures from degrees Celsius to degrees Fahrenheit, and store the results in the DataFrame. A typical way of performing calculations such as this is to access the set of `Series` (columns) from the DataFrame that interests us and perform the mathematical calculation using the selected columns. Typically you store the result directly into a column in the DataFrame, such as shown below."
   ]
  },
  {
   "cell_type": "code",
   "execution_count": 36,
   "metadata": {},
   "outputs": [
    {
     "data": {
      "text/html": [
       "<div>\n",
       "<style scoped>\n",
       "    .dataframe tbody tr th:only-of-type {\n",
       "        vertical-align: middle;\n",
       "    }\n",
       "\n",
       "    .dataframe tbody tr th {\n",
       "        vertical-align: top;\n",
       "    }\n",
       "\n",
       "    .dataframe thead th {\n",
       "        text-align: right;\n",
       "    }\n",
       "</style>\n",
       "<table border=\"1\" class=\"dataframe\">\n",
       "  <thead>\n",
       "    <tr style=\"text-align: right;\">\n",
       "      <th></th>\n",
       "      <th>DATE</th>\n",
       "      <th>AWND</th>\n",
       "      <th>FMTM</th>\n",
       "      <th>PRCP</th>\n",
       "      <th>SNOW</th>\n",
       "      <th>TMAX</th>\n",
       "      <th>TMIN</th>\n",
       "      <th>TMAX_F</th>\n",
       "    </tr>\n",
       "  </thead>\n",
       "  <tbody>\n",
       "    <tr>\n",
       "      <th>0</th>\n",
       "      <td>1990-01-01</td>\n",
       "      <td>NaN</td>\n",
       "      <td>&lt;NA&gt;</td>\n",
       "      <td>1.0</td>\n",
       "      <td>18.0</td>\n",
       "      <td>-3.9</td>\n",
       "      <td>-6.1</td>\n",
       "      <td>24.98</td>\n",
       "    </tr>\n",
       "    <tr>\n",
       "      <th>1</th>\n",
       "      <td>1990-01-02</td>\n",
       "      <td>NaN</td>\n",
       "      <td>&lt;NA&gt;</td>\n",
       "      <td>0.0</td>\n",
       "      <td>0.0</td>\n",
       "      <td>1.1</td>\n",
       "      <td>-5.6</td>\n",
       "      <td>33.98</td>\n",
       "    </tr>\n",
       "    <tr>\n",
       "      <th>2</th>\n",
       "      <td>1990-01-03</td>\n",
       "      <td>NaN</td>\n",
       "      <td>&lt;NA&gt;</td>\n",
       "      <td>0.0</td>\n",
       "      <td>0.0</td>\n",
       "      <td>2.2</td>\n",
       "      <td>-5.0</td>\n",
       "      <td>35.96</td>\n",
       "    </tr>\n",
       "    <tr>\n",
       "      <th>3</th>\n",
       "      <td>1990-01-04</td>\n",
       "      <td>NaN</td>\n",
       "      <td>&lt;NA&gt;</td>\n",
       "      <td>1.3</td>\n",
       "      <td>23.0</td>\n",
       "      <td>-1.7</td>\n",
       "      <td>-9.4</td>\n",
       "      <td>28.94</td>\n",
       "    </tr>\n",
       "    <tr>\n",
       "      <th>4</th>\n",
       "      <td>1990-01-05</td>\n",
       "      <td>NaN</td>\n",
       "      <td>&lt;NA&gt;</td>\n",
       "      <td>3.0</td>\n",
       "      <td>97.0</td>\n",
       "      <td>-7.2</td>\n",
       "      <td>-10.6</td>\n",
       "      <td>19.04</td>\n",
       "    </tr>\n",
       "  </tbody>\n",
       "</table>\n",
       "</div>"
      ],
      "text/plain": [
       "         DATE  AWND  FMTM  PRCP  SNOW  TMAX  TMIN  TMAX_F\n",
       "0  1990-01-01   NaN  <NA>   1.0  18.0  -3.9  -6.1   24.98\n",
       "1  1990-01-02   NaN  <NA>   0.0   0.0   1.1  -5.6   33.98\n",
       "2  1990-01-03   NaN  <NA>   0.0   0.0   2.2  -5.0   35.96\n",
       "3  1990-01-04   NaN  <NA>   1.3  23.0  -1.7  -9.4   28.94\n",
       "4  1990-01-05   NaN  <NA>   3.0  97.0  -7.2 -10.6   19.04"
      ]
     },
     "execution_count": 36,
     "metadata": {},
     "output_type": "execute_result"
    }
   ],
   "source": [
    "data = pd.read_csv(\"../data/GHCNd_Houghton.csv\",skiprows=9,dtype={'FMTM':'Int64'},na_values=[9999])\n",
    "data['TMAX_F'] = data['TMAX']*9/5 + 32\n",
    "data.head()"
   ]
  },
  {
   "cell_type": "markdown",
   "metadata": {},
   "source": [
    "We can also define a function for the temperature conversion and then apply this function for each Celsius value on each row of the DataFrame. The output Fahrenheit values will be stored in a new column called `TMAX_F`. "
   ]
  },
  {
   "cell_type": "markdown",
   "metadata": {},
   "source": [
    "### Defining a function\n",
    "\n",
    "We can start our temperature conversion process by first defining a function to convert from Celsius to Fahrenheit. pandas can use regular functions, so you can simply define functions for pandas exactly the same way as you would do normally. Let's define a function that converts from degrees Celsius to Fahrenheit."
   ]
  },
  {
   "cell_type": "code",
   "execution_count": 37,
   "metadata": {},
   "outputs": [],
   "source": [
    "def c2f(temp_cel):\n",
    "    \"\"\"Function to convert Celsius to Fahrenheit.\n",
    "\n",
    "    Parameters\n",
    "    ----------\n",
    "    temp_cel: int | float\n",
    "        Input temperature in Celsius (should be a number)\n",
    "\n",
    "    Returns\n",
    "    -------\n",
    "\n",
    "    Temperature in Fahrenheit (float)\n",
    "    \"\"\"\n",
    "\n",
    "    return temp_cel*9/5 + 32"
   ]
  },
  {
   "cell_type": "markdown",
   "metadata": {},
   "source": [
    "Now we have the function defined and stored in memory. At this point it is good to test the function with a known value to make sure it works properly."
   ]
  },
  {
   "cell_type": "code",
   "execution_count": 38,
   "metadata": {},
   "outputs": [
    {
     "data": {
      "text/plain": [
       "35.06"
      ]
     },
     "execution_count": 38,
     "metadata": {},
     "output_type": "execute_result"
    }
   ],
   "source": [
    "c2f(1.7)"
   ]
  },
  {
   "cell_type": "markdown",
   "metadata": {},
   "source": [
    "### Using a function with the apply method\n",
    "\n",
    "The pandas DataFrame and Series data structures have a dedicated method called `.apply()` for applying functions in columns (or rows). When using `.apply()`, we pass the function that we want to use as an argument. Let's start by applying our `c2f()` function to the `TMAX` column."
   ]
  },
  {
   "cell_type": "code",
   "execution_count": 39,
   "metadata": {},
   "outputs": [
    {
     "data": {
      "text/html": [
       "<div>\n",
       "<style scoped>\n",
       "    .dataframe tbody tr th:only-of-type {\n",
       "        vertical-align: middle;\n",
       "    }\n",
       "\n",
       "    .dataframe tbody tr th {\n",
       "        vertical-align: top;\n",
       "    }\n",
       "\n",
       "    .dataframe thead th {\n",
       "        text-align: right;\n",
       "    }\n",
       "</style>\n",
       "<table border=\"1\" class=\"dataframe\">\n",
       "  <thead>\n",
       "    <tr style=\"text-align: right;\">\n",
       "      <th></th>\n",
       "      <th>DATE</th>\n",
       "      <th>AWND</th>\n",
       "      <th>FMTM</th>\n",
       "      <th>PRCP</th>\n",
       "      <th>SNOW</th>\n",
       "      <th>TMAX</th>\n",
       "      <th>TMIN</th>\n",
       "      <th>TMAX_F</th>\n",
       "    </tr>\n",
       "  </thead>\n",
       "  <tbody>\n",
       "    <tr>\n",
       "      <th>0</th>\n",
       "      <td>1990-01-01</td>\n",
       "      <td>NaN</td>\n",
       "      <td>&lt;NA&gt;</td>\n",
       "      <td>1.0</td>\n",
       "      <td>18.0</td>\n",
       "      <td>-3.9</td>\n",
       "      <td>-6.1</td>\n",
       "      <td>24.98</td>\n",
       "    </tr>\n",
       "    <tr>\n",
       "      <th>1</th>\n",
       "      <td>1990-01-02</td>\n",
       "      <td>NaN</td>\n",
       "      <td>&lt;NA&gt;</td>\n",
       "      <td>0.0</td>\n",
       "      <td>0.0</td>\n",
       "      <td>1.1</td>\n",
       "      <td>-5.6</td>\n",
       "      <td>33.98</td>\n",
       "    </tr>\n",
       "    <tr>\n",
       "      <th>2</th>\n",
       "      <td>1990-01-03</td>\n",
       "      <td>NaN</td>\n",
       "      <td>&lt;NA&gt;</td>\n",
       "      <td>0.0</td>\n",
       "      <td>0.0</td>\n",
       "      <td>2.2</td>\n",
       "      <td>-5.0</td>\n",
       "      <td>35.96</td>\n",
       "    </tr>\n",
       "    <tr>\n",
       "      <th>3</th>\n",
       "      <td>1990-01-04</td>\n",
       "      <td>NaN</td>\n",
       "      <td>&lt;NA&gt;</td>\n",
       "      <td>1.3</td>\n",
       "      <td>23.0</td>\n",
       "      <td>-1.7</td>\n",
       "      <td>-9.4</td>\n",
       "      <td>28.94</td>\n",
       "    </tr>\n",
       "    <tr>\n",
       "      <th>4</th>\n",
       "      <td>1990-01-05</td>\n",
       "      <td>NaN</td>\n",
       "      <td>&lt;NA&gt;</td>\n",
       "      <td>3.0</td>\n",
       "      <td>97.0</td>\n",
       "      <td>-7.2</td>\n",
       "      <td>-10.6</td>\n",
       "      <td>19.04</td>\n",
       "    </tr>\n",
       "  </tbody>\n",
       "</table>\n",
       "</div>"
      ],
      "text/plain": [
       "         DATE  AWND  FMTM  PRCP  SNOW  TMAX  TMIN  TMAX_F\n",
       "0  1990-01-01   NaN  <NA>   1.0  18.0  -3.9  -6.1   24.98\n",
       "1  1990-01-02   NaN  <NA>   0.0   0.0   1.1  -5.6   33.98\n",
       "2  1990-01-03   NaN  <NA>   0.0   0.0   2.2  -5.0   35.96\n",
       "3  1990-01-04   NaN  <NA>   1.3  23.0  -1.7  -9.4   28.94\n",
       "4  1990-01-05   NaN  <NA>   3.0  97.0  -7.2 -10.6   19.04"
      ]
     },
     "execution_count": 39,
     "metadata": {},
     "output_type": "execute_result"
    }
   ],
   "source": [
    "data[\"TMAX_F\"] = data[\"TMAX\"].apply(c2f)\n",
    "data.head()"
   ]
  },
  {
   "cell_type": "markdown",
   "metadata": {},
   "source": [
    "A nice thing with `.apply()` is that we can also apply the function on several columns at once. Below, we also sort the values in descending order based on values in the `TMAX` column to confirm that applying our function really works."
   ]
  },
  {
   "cell_type": "code",
   "execution_count": 40,
   "metadata": {},
   "outputs": [
    {
     "data": {
      "text/html": [
       "<div>\n",
       "<style scoped>\n",
       "    .dataframe tbody tr th:only-of-type {\n",
       "        vertical-align: middle;\n",
       "    }\n",
       "\n",
       "    .dataframe tbody tr th {\n",
       "        vertical-align: top;\n",
       "    }\n",
       "\n",
       "    .dataframe thead th {\n",
       "        text-align: right;\n",
       "    }\n",
       "</style>\n",
       "<table border=\"1\" class=\"dataframe\">\n",
       "  <thead>\n",
       "    <tr style=\"text-align: right;\">\n",
       "      <th></th>\n",
       "      <th>TMAX</th>\n",
       "      <th>TMIN</th>\n",
       "    </tr>\n",
       "  </thead>\n",
       "  <tbody>\n",
       "    <tr>\n",
       "      <th>2036</th>\n",
       "      <td>98.06</td>\n",
       "      <td>60.08</td>\n",
       "    </tr>\n",
       "    <tr>\n",
       "      <th>11855</th>\n",
       "      <td>98.06</td>\n",
       "      <td>57.02</td>\n",
       "    </tr>\n",
       "    <tr>\n",
       "      <th>6053</th>\n",
       "      <td>96.08</td>\n",
       "      <td>66.02</td>\n",
       "    </tr>\n",
       "    <tr>\n",
       "      <th>4561</th>\n",
       "      <td>96.08</td>\n",
       "      <td>69.08</td>\n",
       "    </tr>\n",
       "    <tr>\n",
       "      <th>5696</th>\n",
       "      <td>95.00</td>\n",
       "      <td>59.00</td>\n",
       "    </tr>\n",
       "  </tbody>\n",
       "</table>\n",
       "</div>"
      ],
      "text/plain": [
       "        TMAX   TMIN\n",
       "2036   98.06  60.08\n",
       "11855  98.06  57.02\n",
       "6053   96.08  66.02\n",
       "4561   96.08  69.08\n",
       "5696   95.00  59.00"
      ]
     },
     "execution_count": 40,
     "metadata": {},
     "output_type": "execute_result"
    }
   ],
   "source": [
    "result = data[[\"TMAX\",\"TMIN\"]].apply(c2f)\n",
    "result.sort_values(by=\"TMAX\", ascending=False).head()"
   ]
  },
  {
   "cell_type": "markdown",
   "metadata": {},
   "source": [
    "You can also directly store the outputs to new columns in the DataFrame."
   ]
  },
  {
   "cell_type": "code",
   "execution_count": 41,
   "metadata": {},
   "outputs": [
    {
     "data": {
      "text/html": [
       "<div>\n",
       "<style scoped>\n",
       "    .dataframe tbody tr th:only-of-type {\n",
       "        vertical-align: middle;\n",
       "    }\n",
       "\n",
       "    .dataframe tbody tr th {\n",
       "        vertical-align: top;\n",
       "    }\n",
       "\n",
       "    .dataframe thead th {\n",
       "        text-align: right;\n",
       "    }\n",
       "</style>\n",
       "<table border=\"1\" class=\"dataframe\">\n",
       "  <thead>\n",
       "    <tr style=\"text-align: right;\">\n",
       "      <th></th>\n",
       "      <th>DATE</th>\n",
       "      <th>AWND</th>\n",
       "      <th>FMTM</th>\n",
       "      <th>PRCP</th>\n",
       "      <th>SNOW</th>\n",
       "      <th>TMAX</th>\n",
       "      <th>TMIN</th>\n",
       "      <th>TMAX_F</th>\n",
       "      <th>TMIN_F</th>\n",
       "    </tr>\n",
       "  </thead>\n",
       "  <tbody>\n",
       "    <tr>\n",
       "      <th>0</th>\n",
       "      <td>1990-01-01</td>\n",
       "      <td>NaN</td>\n",
       "      <td>&lt;NA&gt;</td>\n",
       "      <td>1.0</td>\n",
       "      <td>18.0</td>\n",
       "      <td>-3.9</td>\n",
       "      <td>-6.1</td>\n",
       "      <td>24.98</td>\n",
       "      <td>21.02</td>\n",
       "    </tr>\n",
       "    <tr>\n",
       "      <th>1</th>\n",
       "      <td>1990-01-02</td>\n",
       "      <td>NaN</td>\n",
       "      <td>&lt;NA&gt;</td>\n",
       "      <td>0.0</td>\n",
       "      <td>0.0</td>\n",
       "      <td>1.1</td>\n",
       "      <td>-5.6</td>\n",
       "      <td>33.98</td>\n",
       "      <td>21.92</td>\n",
       "    </tr>\n",
       "    <tr>\n",
       "      <th>2</th>\n",
       "      <td>1990-01-03</td>\n",
       "      <td>NaN</td>\n",
       "      <td>&lt;NA&gt;</td>\n",
       "      <td>0.0</td>\n",
       "      <td>0.0</td>\n",
       "      <td>2.2</td>\n",
       "      <td>-5.0</td>\n",
       "      <td>35.96</td>\n",
       "      <td>23.00</td>\n",
       "    </tr>\n",
       "    <tr>\n",
       "      <th>3</th>\n",
       "      <td>1990-01-04</td>\n",
       "      <td>NaN</td>\n",
       "      <td>&lt;NA&gt;</td>\n",
       "      <td>1.3</td>\n",
       "      <td>23.0</td>\n",
       "      <td>-1.7</td>\n",
       "      <td>-9.4</td>\n",
       "      <td>28.94</td>\n",
       "      <td>15.08</td>\n",
       "    </tr>\n",
       "    <tr>\n",
       "      <th>4</th>\n",
       "      <td>1990-01-05</td>\n",
       "      <td>NaN</td>\n",
       "      <td>&lt;NA&gt;</td>\n",
       "      <td>3.0</td>\n",
       "      <td>97.0</td>\n",
       "      <td>-7.2</td>\n",
       "      <td>-10.6</td>\n",
       "      <td>19.04</td>\n",
       "      <td>12.92</td>\n",
       "    </tr>\n",
       "  </tbody>\n",
       "</table>\n",
       "</div>"
      ],
      "text/plain": [
       "         DATE  AWND  FMTM  PRCP  SNOW  TMAX  TMIN  TMAX_F  TMIN_F\n",
       "0  1990-01-01   NaN  <NA>   1.0  18.0  -3.9  -6.1   24.98   21.02\n",
       "1  1990-01-02   NaN  <NA>   0.0   0.0   1.1  -5.6   33.98   21.92\n",
       "2  1990-01-03   NaN  <NA>   0.0   0.0   2.2  -5.0   35.96   23.00\n",
       "3  1990-01-04   NaN  <NA>   1.3  23.0  -1.7  -9.4   28.94   15.08\n",
       "4  1990-01-05   NaN  <NA>   3.0  97.0  -7.2 -10.6   19.04   12.92"
      ]
     },
     "execution_count": 41,
     "metadata": {},
     "output_type": "execute_result"
    }
   ],
   "source": [
    "data[[\"TMAX_F\",\"TMIN_F\"]] = data[[\"TMAX\",\"TMIN\"]].apply(c2f)\n",
    "data.head()"
   ]
  },
  {
   "cell_type": "markdown",
   "metadata": {},
   "source": [
    "## Working with temporal data in pandas\n",
    "\n",
    "pandas is extremely powerful and flexible when it comes to working with temporal data. pandas supports many useful functionalities related to parsing, manipulating, and aggregating time series data. You may notice that the Houghton weather DataFrame contains a `DATE` column of timestamps. These can be automatically converted to `datetime` objects when reading the data by using the `parse_dates` parameter and providing a list of column names that should be parsed by `datetime`."
   ]
  },
  {
   "cell_type": "code",
   "execution_count": 42,
   "metadata": {},
   "outputs": [
    {
     "data": {
      "text/plain": [
       "DATE    datetime64[ns]\n",
       "AWND           float64\n",
       "FMTM             Int64\n",
       "PRCP           float64\n",
       "SNOW           float64\n",
       "TMAX           float64\n",
       "TMIN           float64\n",
       "dtype: object"
      ]
     },
     "execution_count": 42,
     "metadata": {},
     "output_type": "execute_result"
    }
   ],
   "source": [
    "data = pd.read_csv(\"../data/GHCNd_Houghton.csv\",skiprows=9,dtype={'FMTM':'Int64'},na_values=[9999],parse_dates=['DATE'])\n",
    "data.dtypes"
   ]
  },
  {
   "cell_type": "markdown",
   "metadata": {},
   "source": [
    "The `TimeStamp` object has many useful attributes and functions that can be used in a vectorized manner. For instance, you can parse different temporal components from the time series stored in a column very efficiently. Let's parse the temporal components from `DATE` into columns `YEAR`, `MONTH`, `DAY` and `HOUR`."
   ]
  },
  {
   "cell_type": "code",
   "execution_count": 43,
   "metadata": {},
   "outputs": [
    {
     "data": {
      "text/html": [
       "<div>\n",
       "<style scoped>\n",
       "    .dataframe tbody tr th:only-of-type {\n",
       "        vertical-align: middle;\n",
       "    }\n",
       "\n",
       "    .dataframe tbody tr th {\n",
       "        vertical-align: top;\n",
       "    }\n",
       "\n",
       "    .dataframe thead th {\n",
       "        text-align: right;\n",
       "    }\n",
       "</style>\n",
       "<table border=\"1\" class=\"dataframe\">\n",
       "  <thead>\n",
       "    <tr style=\"text-align: right;\">\n",
       "      <th></th>\n",
       "      <th>DATE</th>\n",
       "      <th>AWND</th>\n",
       "      <th>FMTM</th>\n",
       "      <th>PRCP</th>\n",
       "      <th>SNOW</th>\n",
       "      <th>TMAX</th>\n",
       "      <th>TMIN</th>\n",
       "      <th>YEAR</th>\n",
       "      <th>MONTH</th>\n",
       "      <th>DAY</th>\n",
       "      <th>HOUR</th>\n",
       "    </tr>\n",
       "  </thead>\n",
       "  <tbody>\n",
       "    <tr>\n",
       "      <th>0</th>\n",
       "      <td>1990-01-01</td>\n",
       "      <td>NaN</td>\n",
       "      <td>&lt;NA&gt;</td>\n",
       "      <td>1.0</td>\n",
       "      <td>18.0</td>\n",
       "      <td>-3.9</td>\n",
       "      <td>-6.1</td>\n",
       "      <td>1990</td>\n",
       "      <td>1</td>\n",
       "      <td>1</td>\n",
       "      <td>0</td>\n",
       "    </tr>\n",
       "    <tr>\n",
       "      <th>1</th>\n",
       "      <td>1990-01-02</td>\n",
       "      <td>NaN</td>\n",
       "      <td>&lt;NA&gt;</td>\n",
       "      <td>0.0</td>\n",
       "      <td>0.0</td>\n",
       "      <td>1.1</td>\n",
       "      <td>-5.6</td>\n",
       "      <td>1990</td>\n",
       "      <td>1</td>\n",
       "      <td>2</td>\n",
       "      <td>0</td>\n",
       "    </tr>\n",
       "    <tr>\n",
       "      <th>2</th>\n",
       "      <td>1990-01-03</td>\n",
       "      <td>NaN</td>\n",
       "      <td>&lt;NA&gt;</td>\n",
       "      <td>0.0</td>\n",
       "      <td>0.0</td>\n",
       "      <td>2.2</td>\n",
       "      <td>-5.0</td>\n",
       "      <td>1990</td>\n",
       "      <td>1</td>\n",
       "      <td>3</td>\n",
       "      <td>0</td>\n",
       "    </tr>\n",
       "    <tr>\n",
       "      <th>3</th>\n",
       "      <td>1990-01-04</td>\n",
       "      <td>NaN</td>\n",
       "      <td>&lt;NA&gt;</td>\n",
       "      <td>1.3</td>\n",
       "      <td>23.0</td>\n",
       "      <td>-1.7</td>\n",
       "      <td>-9.4</td>\n",
       "      <td>1990</td>\n",
       "      <td>1</td>\n",
       "      <td>4</td>\n",
       "      <td>0</td>\n",
       "    </tr>\n",
       "    <tr>\n",
       "      <th>4</th>\n",
       "      <td>1990-01-05</td>\n",
       "      <td>NaN</td>\n",
       "      <td>&lt;NA&gt;</td>\n",
       "      <td>3.0</td>\n",
       "      <td>97.0</td>\n",
       "      <td>-7.2</td>\n",
       "      <td>-10.6</td>\n",
       "      <td>1990</td>\n",
       "      <td>1</td>\n",
       "      <td>5</td>\n",
       "      <td>0</td>\n",
       "    </tr>\n",
       "  </tbody>\n",
       "</table>\n",
       "</div>"
      ],
      "text/plain": [
       "        DATE  AWND  FMTM  PRCP  SNOW  TMAX  TMIN  YEAR  MONTH  DAY  HOUR\n",
       "0 1990-01-01   NaN  <NA>   1.0  18.0  -3.9  -6.1  1990      1    1     0\n",
       "1 1990-01-02   NaN  <NA>   0.0   0.0   1.1  -5.6  1990      1    2     0\n",
       "2 1990-01-03   NaN  <NA>   0.0   0.0   2.2  -5.0  1990      1    3     0\n",
       "3 1990-01-04   NaN  <NA>   1.3  23.0  -1.7  -9.4  1990      1    4     0\n",
       "4 1990-01-05   NaN  <NA>   3.0  97.0  -7.2 -10.6  1990      1    5     0"
      ]
     },
     "execution_count": 43,
     "metadata": {},
     "output_type": "execute_result"
    }
   ],
   "source": [
    "data[\"YEAR\"] = data[\"DATE\"].dt.year\n",
    "data[\"MONTH\"] = data[\"DATE\"].dt.month\n",
    "data[\"DAY\"] = data[\"DATE\"].dt.day\n",
    "data[\"HOUR\"] = data[\"DATE\"].dt.hour\n",
    "data.head()"
   ]
  },
  {
   "cell_type": "markdown",
   "metadata": {},
   "source": [
    "Now the new columns have corresponding integer values for each temporal component. We were able to access all the temporal attributes by using the `.dt` accessor that is available for all Series having the `datetime64` data type. This is perhaps also a good time to note that when reading in dates that lack time data (hours, minutes, and seconds), the missing times will be filled in as midnight on the associated date."
   ]
  },
  {
   "cell_type": "markdown",
   "metadata": {},
   "source": [
    "## Selecting data using a DatetimeIndex"
   ]
  },
  {
   "cell_type": "markdown",
   "metadata": {},
   "source": [
    "We can take advantage of the `datetime` objects in data selection. We need to first set the `DATE` column as the index of the DataFrame using the `.set_index()` method, or set the `DATE` column as the index of the DataFrame when using `.read_csv()`.\n"
   ]
  },
  {
   "cell_type": "code",
   "execution_count": 44,
   "metadata": {},
   "outputs": [
    {
     "data": {
      "text/html": [
       "<div>\n",
       "<style scoped>\n",
       "    .dataframe tbody tr th:only-of-type {\n",
       "        vertical-align: middle;\n",
       "    }\n",
       "\n",
       "    .dataframe tbody tr th {\n",
       "        vertical-align: top;\n",
       "    }\n",
       "\n",
       "    .dataframe thead th {\n",
       "        text-align: right;\n",
       "    }\n",
       "</style>\n",
       "<table border=\"1\" class=\"dataframe\">\n",
       "  <thead>\n",
       "    <tr style=\"text-align: right;\">\n",
       "      <th></th>\n",
       "      <th>AWND</th>\n",
       "      <th>FMTM</th>\n",
       "      <th>PRCP</th>\n",
       "      <th>SNOW</th>\n",
       "      <th>TMAX</th>\n",
       "      <th>TMIN</th>\n",
       "    </tr>\n",
       "    <tr>\n",
       "      <th>DATE</th>\n",
       "      <th></th>\n",
       "      <th></th>\n",
       "      <th></th>\n",
       "      <th></th>\n",
       "      <th></th>\n",
       "      <th></th>\n",
       "    </tr>\n",
       "  </thead>\n",
       "  <tbody>\n",
       "    <tr>\n",
       "      <th>1990-01-01</th>\n",
       "      <td>NaN</td>\n",
       "      <td>&lt;NA&gt;</td>\n",
       "      <td>1.0</td>\n",
       "      <td>18.0</td>\n",
       "      <td>-3.9</td>\n",
       "      <td>-6.1</td>\n",
       "    </tr>\n",
       "    <tr>\n",
       "      <th>1990-01-02</th>\n",
       "      <td>NaN</td>\n",
       "      <td>&lt;NA&gt;</td>\n",
       "      <td>0.0</td>\n",
       "      <td>0.0</td>\n",
       "      <td>1.1</td>\n",
       "      <td>-5.6</td>\n",
       "    </tr>\n",
       "    <tr>\n",
       "      <th>1990-01-03</th>\n",
       "      <td>NaN</td>\n",
       "      <td>&lt;NA&gt;</td>\n",
       "      <td>0.0</td>\n",
       "      <td>0.0</td>\n",
       "      <td>2.2</td>\n",
       "      <td>-5.0</td>\n",
       "    </tr>\n",
       "    <tr>\n",
       "      <th>1990-01-04</th>\n",
       "      <td>NaN</td>\n",
       "      <td>&lt;NA&gt;</td>\n",
       "      <td>1.3</td>\n",
       "      <td>23.0</td>\n",
       "      <td>-1.7</td>\n",
       "      <td>-9.4</td>\n",
       "    </tr>\n",
       "    <tr>\n",
       "      <th>1990-01-05</th>\n",
       "      <td>NaN</td>\n",
       "      <td>&lt;NA&gt;</td>\n",
       "      <td>3.0</td>\n",
       "      <td>97.0</td>\n",
       "      <td>-7.2</td>\n",
       "      <td>-10.6</td>\n",
       "    </tr>\n",
       "  </tbody>\n",
       "</table>\n",
       "</div>"
      ],
      "text/plain": [
       "            AWND  FMTM  PRCP  SNOW  TMAX  TMIN\n",
       "DATE                                          \n",
       "1990-01-01   NaN  <NA>   1.0  18.0  -3.9  -6.1\n",
       "1990-01-02   NaN  <NA>   0.0   0.0   1.1  -5.6\n",
       "1990-01-03   NaN  <NA>   0.0   0.0   2.2  -5.0\n",
       "1990-01-04   NaN  <NA>   1.3  23.0  -1.7  -9.4\n",
       "1990-01-05   NaN  <NA>   3.0  97.0  -7.2 -10.6"
      ]
     },
     "execution_count": 44,
     "metadata": {},
     "output_type": "execute_result"
    }
   ],
   "source": [
    "data = pd.read_csv(\"../data/GHCNd_Houghton.csv\",skiprows=9,dtype={'FMTM':'Int64'},na_values=[9999],parse_dates=['DATE'],index_col=['DATE'])\n",
    "data.head()"
   ]
  },
  {
   "cell_type": "markdown",
   "metadata": {},
   "source": [
    "As we have now equipped our DataFrame with a `DatetimeIndex`, it is easy to filter the data based on specific criteria and select all observations that have been recorded in specific months of 2019, for example. To do this, we can use `.loc[]` indexing similar to how we did before, but pass the criteria for selecting the data using either `datetime` objects or strings that can be interpreted as a date. For instance, we can select the observations for January 2019 based on `datetime` labels."
   ]
  },
  {
   "cell_type": "code",
   "execution_count": 45,
   "metadata": {},
   "outputs": [
    {
     "data": {
      "text/html": [
       "<div>\n",
       "<style scoped>\n",
       "    .dataframe tbody tr th:only-of-type {\n",
       "        vertical-align: middle;\n",
       "    }\n",
       "\n",
       "    .dataframe tbody tr th {\n",
       "        vertical-align: top;\n",
       "    }\n",
       "\n",
       "    .dataframe thead th {\n",
       "        text-align: right;\n",
       "    }\n",
       "</style>\n",
       "<table border=\"1\" class=\"dataframe\">\n",
       "  <thead>\n",
       "    <tr style=\"text-align: right;\">\n",
       "      <th></th>\n",
       "      <th>AWND</th>\n",
       "      <th>FMTM</th>\n",
       "      <th>PRCP</th>\n",
       "      <th>SNOW</th>\n",
       "      <th>TMAX</th>\n",
       "      <th>TMIN</th>\n",
       "    </tr>\n",
       "    <tr>\n",
       "      <th>DATE</th>\n",
       "      <th></th>\n",
       "      <th></th>\n",
       "      <th></th>\n",
       "      <th></th>\n",
       "      <th></th>\n",
       "      <th></th>\n",
       "    </tr>\n",
       "  </thead>\n",
       "  <tbody>\n",
       "    <tr>\n",
       "      <th>2000-01-01</th>\n",
       "      <td>NaN</td>\n",
       "      <td>&lt;NA&gt;</td>\n",
       "      <td>0.0</td>\n",
       "      <td>0.0</td>\n",
       "      <td>-1.7</td>\n",
       "      <td>-6.7</td>\n",
       "    </tr>\n",
       "    <tr>\n",
       "      <th>2000-01-02</th>\n",
       "      <td>NaN</td>\n",
       "      <td>&lt;NA&gt;</td>\n",
       "      <td>1.8</td>\n",
       "      <td>28.0</td>\n",
       "      <td>-2.2</td>\n",
       "      <td>-5.6</td>\n",
       "    </tr>\n",
       "    <tr>\n",
       "      <th>2000-01-03</th>\n",
       "      <td>NaN</td>\n",
       "      <td>&lt;NA&gt;</td>\n",
       "      <td>0.0</td>\n",
       "      <td>0.0</td>\n",
       "      <td>-2.8</td>\n",
       "      <td>-6.7</td>\n",
       "    </tr>\n",
       "    <tr>\n",
       "      <th>2000-01-04</th>\n",
       "      <td>NaN</td>\n",
       "      <td>&lt;NA&gt;</td>\n",
       "      <td>0.5</td>\n",
       "      <td>20.0</td>\n",
       "      <td>-3.9</td>\n",
       "      <td>-10.6</td>\n",
       "    </tr>\n",
       "    <tr>\n",
       "      <th>2000-01-05</th>\n",
       "      <td>NaN</td>\n",
       "      <td>&lt;NA&gt;</td>\n",
       "      <td>1.5</td>\n",
       "      <td>30.0</td>\n",
       "      <td>-6.7</td>\n",
       "      <td>-14.4</td>\n",
       "    </tr>\n",
       "  </tbody>\n",
       "</table>\n",
       "</div>"
      ],
      "text/plain": [
       "            AWND  FMTM  PRCP  SNOW  TMAX  TMIN\n",
       "DATE                                          \n",
       "2000-01-01   NaN  <NA>   0.0   0.0  -1.7  -6.7\n",
       "2000-01-02   NaN  <NA>   1.8  28.0  -2.2  -5.6\n",
       "2000-01-03   NaN  <NA>   0.0   0.0  -2.8  -6.7\n",
       "2000-01-04   NaN  <NA>   0.5  20.0  -3.9 -10.6\n",
       "2000-01-05   NaN  <NA>   1.5  30.0  -6.7 -14.4"
      ]
     },
     "execution_count": 45,
     "metadata": {},
     "output_type": "execute_result"
    }
   ],
   "source": [
    "from datetime import datetime\n",
    "\n",
    "start_dt = datetime(2000, 1, 1)\n",
    "end_dt = datetime(2000, 1, 31)\n",
    "jan2000 = data.loc[start_dt:end_dt].copy()\n",
    "jan2000.head()"
   ]
  },
  {
   "cell_type": "markdown",
   "metadata": {},
   "source": [
    "Pandas also provides a nice, easy way to select observations for specific month by specifying the selection criteria as a string. This approach is convenient because we can select observations by passing a single label to the `.loc[]` indexer and pandas automatically detects what should be done based on the string."
   ]
  },
  {
   "cell_type": "code",
   "execution_count": 46,
   "metadata": {},
   "outputs": [
    {
     "name": "stdout",
     "output_type": "stream",
     "text": [
      "First obs: 2019-02-01 00:00:00\n",
      "Last obs: 2019-02-28 00:00:00\n"
     ]
    }
   ],
   "source": [
    "february = data.loc[\"2019-02\"].copy()\n",
    "first, last = february.index.min(), february.index.max()\n",
    "print(f\"First obs: {first}\\nLast obs: {last}\")"
   ]
  },
  {
   "cell_type": "markdown",
   "metadata": {},
   "source": [
    "As a result, we selected all observations that were recorded during February 2019. Using this approach, called partial string indexing, is useful because it makes it easy for us to deal with a irregular number of days in February (such as in leap years). By passing the time window as a string that comprises the year and month information, we do not need to worry about leap years ourselves as pandas does this automatically for us."
   ]
  },
  {
   "cell_type": "code",
   "execution_count": 47,
   "metadata": {},
   "outputs": [
    {
     "name": "stdout",
     "output_type": "stream",
     "text": [
      "First obs: 2020-02-01 00:00:00\n",
      "Last obs: 2020-02-29 00:00:00\n"
     ]
    }
   ],
   "source": [
    "leap_year = data.loc[\"2020-02\"].copy()\n",
    "first, last = leap_year.index.min(), leap_year.index.max()\n",
    "print(f\"First obs: {first}\\nLast obs: {last}\")"
   ]
  },
  {
   "cell_type": "markdown",
   "metadata": {},
   "source": [
    "Following the same approach, we can adjust the criteria to have a more specific time range such as first two weeks of February of 2018."
   ]
  },
  {
   "cell_type": "code",
   "execution_count": 48,
   "metadata": {},
   "outputs": [
    {
     "data": {
      "text/html": [
       "<div>\n",
       "<style scoped>\n",
       "    .dataframe tbody tr th:only-of-type {\n",
       "        vertical-align: middle;\n",
       "    }\n",
       "\n",
       "    .dataframe tbody tr th {\n",
       "        vertical-align: top;\n",
       "    }\n",
       "\n",
       "    .dataframe thead th {\n",
       "        text-align: right;\n",
       "    }\n",
       "</style>\n",
       "<table border=\"1\" class=\"dataframe\">\n",
       "  <thead>\n",
       "    <tr style=\"text-align: right;\">\n",
       "      <th></th>\n",
       "      <th>AWND</th>\n",
       "      <th>FMTM</th>\n",
       "      <th>PRCP</th>\n",
       "      <th>SNOW</th>\n",
       "      <th>TMAX</th>\n",
       "      <th>TMIN</th>\n",
       "    </tr>\n",
       "    <tr>\n",
       "      <th>DATE</th>\n",
       "      <th></th>\n",
       "      <th></th>\n",
       "      <th></th>\n",
       "      <th></th>\n",
       "      <th></th>\n",
       "      <th></th>\n",
       "    </tr>\n",
       "  </thead>\n",
       "  <tbody>\n",
       "    <tr>\n",
       "      <th>2018-02-13</th>\n",
       "      <td>4.2</td>\n",
       "      <td>&lt;NA&gt;</td>\n",
       "      <td>0.0</td>\n",
       "      <td>NaN</td>\n",
       "      <td>0.0</td>\n",
       "      <td>-22.7</td>\n",
       "    </tr>\n",
       "    <tr>\n",
       "      <th>2018-02-14</th>\n",
       "      <td>4.5</td>\n",
       "      <td>&lt;NA&gt;</td>\n",
       "      <td>0.0</td>\n",
       "      <td>NaN</td>\n",
       "      <td>7.8</td>\n",
       "      <td>-4.3</td>\n",
       "    </tr>\n",
       "  </tbody>\n",
       "</table>\n",
       "</div>"
      ],
      "text/plain": [
       "            AWND  FMTM  PRCP  SNOW  TMAX  TMIN\n",
       "DATE                                          \n",
       "2018-02-13   4.2  <NA>   0.0   NaN   0.0 -22.7\n",
       "2018-02-14   4.5  <NA>   0.0   NaN   7.8  -4.3"
      ]
     },
     "execution_count": 48,
     "metadata": {},
     "output_type": "execute_result"
    }
   ],
   "source": [
    "first_two_weeks = data.loc[\"2018-02-01\":\"2018-02-14\"].copy()\n",
    "first_two_weeks.tail(2)"
   ]
  },
  {
   "cell_type": "markdown",
   "metadata": {},
   "source": [
    "Or we can select data covering the whole year of 2018."
   ]
  },
  {
   "cell_type": "code",
   "execution_count": 49,
   "metadata": {},
   "outputs": [
    {
     "data": {
      "text/html": [
       "<div>\n",
       "<style scoped>\n",
       "    .dataframe tbody tr th:only-of-type {\n",
       "        vertical-align: middle;\n",
       "    }\n",
       "\n",
       "    .dataframe tbody tr th {\n",
       "        vertical-align: top;\n",
       "    }\n",
       "\n",
       "    .dataframe thead th {\n",
       "        text-align: right;\n",
       "    }\n",
       "</style>\n",
       "<table border=\"1\" class=\"dataframe\">\n",
       "  <thead>\n",
       "    <tr style=\"text-align: right;\">\n",
       "      <th></th>\n",
       "      <th>AWND</th>\n",
       "      <th>FMTM</th>\n",
       "      <th>PRCP</th>\n",
       "      <th>SNOW</th>\n",
       "      <th>TMAX</th>\n",
       "      <th>TMIN</th>\n",
       "    </tr>\n",
       "    <tr>\n",
       "      <th>DATE</th>\n",
       "      <th></th>\n",
       "      <th></th>\n",
       "      <th></th>\n",
       "      <th></th>\n",
       "      <th></th>\n",
       "      <th></th>\n",
       "    </tr>\n",
       "  </thead>\n",
       "  <tbody>\n",
       "    <tr>\n",
       "      <th>2018-01-01</th>\n",
       "      <td>8.5</td>\n",
       "      <td>&lt;NA&gt;</td>\n",
       "      <td>NaN</td>\n",
       "      <td>NaN</td>\n",
       "      <td>-10.5</td>\n",
       "      <td>-17.7</td>\n",
       "    </tr>\n",
       "    <tr>\n",
       "      <th>2018-01-02</th>\n",
       "      <td>6.8</td>\n",
       "      <td>&lt;NA&gt;</td>\n",
       "      <td>NaN</td>\n",
       "      <td>NaN</td>\n",
       "      <td>-8.8</td>\n",
       "      <td>-12.7</td>\n",
       "    </tr>\n",
       "    <tr>\n",
       "      <th>2018-01-03</th>\n",
       "      <td>5.6</td>\n",
       "      <td>&lt;NA&gt;</td>\n",
       "      <td>NaN</td>\n",
       "      <td>NaN</td>\n",
       "      <td>-10.5</td>\n",
       "      <td>-16.6</td>\n",
       "    </tr>\n",
       "    <tr>\n",
       "      <th>2018-01-04</th>\n",
       "      <td>4.1</td>\n",
       "      <td>&lt;NA&gt;</td>\n",
       "      <td>NaN</td>\n",
       "      <td>NaN</td>\n",
       "      <td>-15.5</td>\n",
       "      <td>-17.1</td>\n",
       "    </tr>\n",
       "    <tr>\n",
       "      <th>2018-01-05</th>\n",
       "      <td>4.9</td>\n",
       "      <td>&lt;NA&gt;</td>\n",
       "      <td>NaN</td>\n",
       "      <td>NaN</td>\n",
       "      <td>-15.5</td>\n",
       "      <td>-17.7</td>\n",
       "    </tr>\n",
       "    <tr>\n",
       "      <th>...</th>\n",
       "      <td>...</td>\n",
       "      <td>...</td>\n",
       "      <td>...</td>\n",
       "      <td>...</td>\n",
       "      <td>...</td>\n",
       "      <td>...</td>\n",
       "    </tr>\n",
       "    <tr>\n",
       "      <th>2018-12-27</th>\n",
       "      <td>6.1</td>\n",
       "      <td>&lt;NA&gt;</td>\n",
       "      <td>9.4</td>\n",
       "      <td>NaN</td>\n",
       "      <td>1.1</td>\n",
       "      <td>-2.1</td>\n",
       "    </tr>\n",
       "    <tr>\n",
       "      <th>2018-12-28</th>\n",
       "      <td>7.2</td>\n",
       "      <td>&lt;NA&gt;</td>\n",
       "      <td>0.3</td>\n",
       "      <td>NaN</td>\n",
       "      <td>0.6</td>\n",
       "      <td>-11.6</td>\n",
       "    </tr>\n",
       "    <tr>\n",
       "      <th>2018-12-29</th>\n",
       "      <td>2.8</td>\n",
       "      <td>&lt;NA&gt;</td>\n",
       "      <td>0.0</td>\n",
       "      <td>NaN</td>\n",
       "      <td>-9.3</td>\n",
       "      <td>-13.8</td>\n",
       "    </tr>\n",
       "    <tr>\n",
       "      <th>2018-12-30</th>\n",
       "      <td>1.8</td>\n",
       "      <td>&lt;NA&gt;</td>\n",
       "      <td>0.0</td>\n",
       "      <td>NaN</td>\n",
       "      <td>-3.8</td>\n",
       "      <td>-12.7</td>\n",
       "    </tr>\n",
       "    <tr>\n",
       "      <th>2018-12-31</th>\n",
       "      <td>5.5</td>\n",
       "      <td>&lt;NA&gt;</td>\n",
       "      <td>3.3</td>\n",
       "      <td>NaN</td>\n",
       "      <td>-2.1</td>\n",
       "      <td>-9.3</td>\n",
       "    </tr>\n",
       "  </tbody>\n",
       "</table>\n",
       "<p>365 rows × 6 columns</p>\n",
       "</div>"
      ],
      "text/plain": [
       "            AWND  FMTM  PRCP  SNOW  TMAX  TMIN\n",
       "DATE                                          \n",
       "2018-01-01   8.5  <NA>   NaN   NaN -10.5 -17.7\n",
       "2018-01-02   6.8  <NA>   NaN   NaN  -8.8 -12.7\n",
       "2018-01-03   5.6  <NA>   NaN   NaN -10.5 -16.6\n",
       "2018-01-04   4.1  <NA>   NaN   NaN -15.5 -17.1\n",
       "2018-01-05   4.9  <NA>   NaN   NaN -15.5 -17.7\n",
       "...          ...   ...   ...   ...   ...   ...\n",
       "2018-12-27   6.1  <NA>   9.4   NaN   1.1  -2.1\n",
       "2018-12-28   7.2  <NA>   0.3   NaN   0.6 -11.6\n",
       "2018-12-29   2.8  <NA>   0.0   NaN  -9.3 -13.8\n",
       "2018-12-30   1.8  <NA>   0.0   NaN  -3.8 -12.7\n",
       "2018-12-31   5.5  <NA>   3.3   NaN  -2.1  -9.3\n",
       "\n",
       "[365 rows x 6 columns]"
      ]
     },
     "execution_count": 49,
     "metadata": {},
     "output_type": "execute_result"
    }
   ],
   "source": [
    "data.loc[\"2018\"]"
   ]
  },
  {
   "cell_type": "markdown",
   "metadata": {},
   "source": [
    "## Resampling time series data\n",
    "\n",
    "One common task when doing time series data analysis is to `resample` the time series from one frequency to another, such as aggregating daily temperature observations to monthly averages. We will learn how to use resampling functionalities in pandas to conduct both downsampling (i.e., aggregating values) and upsampling based on specific `interpolation` methods. In general, when doing interpolation values that are missing between observations can be estimated using on specific criteria, such as taking the average between two consecutive observations. For instance, you could interpolate hourly temperature observations to calculate estimates at a 30-minute frequency by assuming that the temperature between two times, such as 10:00 and 11:00, is the average of both, giving you an estimate of the temperature at 10:30. Notice that whenever interpolating/upsampling data, you are basically making an \"informed guess\" and there is always uncertainty involved with your estimate.  \n",
    "\n",
    "Let's start by downsampling our observations into monthly averages. To do this, we can use the `.resample()` method. The .resample() method works somewhat similarly to `.groupby()`, but it uses the `DatetimeIndex` to allow you to easily control how the values should be grouped. Notice, however, that this only works with time series data (i.e., you need to make sure that you have a DatetimeIndex for your DataFrame). Whenever resampling data, you typically want to combine it with a specific aggregation method, such as .mean(), .max(), or .min(), which will then specify how you want to aggregate the data, such as calculating the monthly averages."
   ]
  },
  {
   "cell_type": "code",
   "execution_count": 50,
   "metadata": {},
   "outputs": [
    {
     "data": {
      "text/html": [
       "<div>\n",
       "<style scoped>\n",
       "    .dataframe tbody tr th:only-of-type {\n",
       "        vertical-align: middle;\n",
       "    }\n",
       "\n",
       "    .dataframe tbody tr th {\n",
       "        vertical-align: top;\n",
       "    }\n",
       "\n",
       "    .dataframe thead th {\n",
       "        text-align: right;\n",
       "    }\n",
       "</style>\n",
       "<table border=\"1\" class=\"dataframe\">\n",
       "  <thead>\n",
       "    <tr style=\"text-align: right;\">\n",
       "      <th></th>\n",
       "      <th>TMAX</th>\n",
       "      <th>TMIN</th>\n",
       "    </tr>\n",
       "    <tr>\n",
       "      <th>DATE</th>\n",
       "      <th></th>\n",
       "      <th></th>\n",
       "    </tr>\n",
       "  </thead>\n",
       "  <tbody>\n",
       "    <tr>\n",
       "      <th>1990-01-01</th>\n",
       "      <td>-1.309677</td>\n",
       "      <td>-8.509677</td>\n",
       "    </tr>\n",
       "    <tr>\n",
       "      <th>1990-02-01</th>\n",
       "      <td>-2.825000</td>\n",
       "      <td>-11.850000</td>\n",
       "    </tr>\n",
       "    <tr>\n",
       "      <th>1990-03-01</th>\n",
       "      <td>2.654839</td>\n",
       "      <td>-5.938710</td>\n",
       "    </tr>\n",
       "    <tr>\n",
       "      <th>1990-04-01</th>\n",
       "      <td>10.443333</td>\n",
       "      <td>0.376667</td>\n",
       "    </tr>\n",
       "    <tr>\n",
       "      <th>1990-05-01</th>\n",
       "      <td>14.045161</td>\n",
       "      <td>4.006452</td>\n",
       "    </tr>\n",
       "  </tbody>\n",
       "</table>\n",
       "</div>"
      ],
      "text/plain": [
       "                 TMAX       TMIN\n",
       "DATE                            \n",
       "1990-01-01  -1.309677  -8.509677\n",
       "1990-02-01  -2.825000 -11.850000\n",
       "1990-03-01   2.654839  -5.938710\n",
       "1990-04-01  10.443333   0.376667\n",
       "1990-05-01  14.045161   4.006452"
      ]
     },
     "execution_count": 50,
     "metadata": {},
     "output_type": "execute_result"
    }
   ],
   "source": [
    "monthly_averages = data.resample(\"MS\")[[\"TMAX\", \"TMIN\"]].mean()\n",
    "monthly_averages.head()"
   ]
  },
  {
   "cell_type": "markdown",
   "metadata": {},
   "source": [
    "In this case, `\"MS\"` indicates that the monthly frequency should be used and that the associated values should be assigned to the start (or first day) of the month. Equivalently, `\"ME\"` would assign the values to the last day of the month. Following the example above, it is easy to calculate weekly average temperatures as well."
   ]
  },
  {
   "cell_type": "code",
   "execution_count": 51,
   "metadata": {},
   "outputs": [
    {
     "data": {
      "text/html": [
       "<div>\n",
       "<style scoped>\n",
       "    .dataframe tbody tr th:only-of-type {\n",
       "        vertical-align: middle;\n",
       "    }\n",
       "\n",
       "    .dataframe tbody tr th {\n",
       "        vertical-align: top;\n",
       "    }\n",
       "\n",
       "    .dataframe thead th {\n",
       "        text-align: right;\n",
       "    }\n",
       "</style>\n",
       "<table border=\"1\" class=\"dataframe\">\n",
       "  <thead>\n",
       "    <tr style=\"text-align: right;\">\n",
       "      <th></th>\n",
       "      <th>TMAX</th>\n",
       "      <th>TMIN</th>\n",
       "    </tr>\n",
       "    <tr>\n",
       "      <th>DATE</th>\n",
       "      <th></th>\n",
       "      <th></th>\n",
       "    </tr>\n",
       "  </thead>\n",
       "  <tbody>\n",
       "    <tr>\n",
       "      <th>1990-01-07</th>\n",
       "      <td>-1.285714</td>\n",
       "      <td>-8.171429</td>\n",
       "    </tr>\n",
       "    <tr>\n",
       "      <th>1990-01-14</th>\n",
       "      <td>-1.028571</td>\n",
       "      <td>-7.700000</td>\n",
       "    </tr>\n",
       "    <tr>\n",
       "      <th>1990-01-21</th>\n",
       "      <td>-1.257143</td>\n",
       "      <td>-8.242857</td>\n",
       "    </tr>\n",
       "    <tr>\n",
       "      <th>1990-01-28</th>\n",
       "      <td>-1.985714</td>\n",
       "      <td>-8.185714</td>\n",
       "    </tr>\n",
       "    <tr>\n",
       "      <th>1990-02-04</th>\n",
       "      <td>-3.271429</td>\n",
       "      <td>-13.014286</td>\n",
       "    </tr>\n",
       "  </tbody>\n",
       "</table>\n",
       "</div>"
      ],
      "text/plain": [
       "                TMAX       TMIN\n",
       "DATE                           \n",
       "1990-01-07 -1.285714  -8.171429\n",
       "1990-01-14 -1.028571  -7.700000\n",
       "1990-01-21 -1.257143  -8.242857\n",
       "1990-01-28 -1.985714  -8.185714\n",
       "1990-02-04 -3.271429 -13.014286"
      ]
     },
     "execution_count": 51,
     "metadata": {},
     "output_type": "execute_result"
    }
   ],
   "source": [
    "weekly_averages = data.resample(\"1W\")[[\"TMAX\", \"TMIN\"]].mean()\n",
    "weekly_averages.head()"
   ]
  },
  {
   "cell_type": "markdown",
   "metadata": {},
   "source": [
    "Upsampling of the data and interpolating the daily observations to a higher frequency (e.g., 12 hours) can be done similarly by estimating the missing values using linear interpolation, for example. Linear interpolation estimates the missing values between known points by fitting a straight line between the observations. Thus, the interpolated temperature between two consecutive days is the average of the two (similar to the case discussed at the beginning of this section). Let's have a look at an example of interpolating temperatures to a frequency of 12 hours from our daily observations."
   ]
  },
  {
   "cell_type": "code",
   "execution_count": 52,
   "metadata": {},
   "outputs": [
    {
     "data": {
      "text/html": [
       "<div>\n",
       "<style scoped>\n",
       "    .dataframe tbody tr th:only-of-type {\n",
       "        vertical-align: middle;\n",
       "    }\n",
       "\n",
       "    .dataframe tbody tr th {\n",
       "        vertical-align: top;\n",
       "    }\n",
       "\n",
       "    .dataframe thead th {\n",
       "        text-align: right;\n",
       "    }\n",
       "</style>\n",
       "<table border=\"1\" class=\"dataframe\">\n",
       "  <thead>\n",
       "    <tr style=\"text-align: right;\">\n",
       "      <th></th>\n",
       "      <th>TMAX</th>\n",
       "      <th>TMIN</th>\n",
       "    </tr>\n",
       "    <tr>\n",
       "      <th>DATE</th>\n",
       "      <th></th>\n",
       "      <th></th>\n",
       "    </tr>\n",
       "  </thead>\n",
       "  <tbody>\n",
       "    <tr>\n",
       "      <th>2018-01-01 00:00:00</th>\n",
       "      <td>-10.50</td>\n",
       "      <td>-17.70</td>\n",
       "    </tr>\n",
       "    <tr>\n",
       "      <th>2018-01-01 12:00:00</th>\n",
       "      <td>-9.65</td>\n",
       "      <td>-15.20</td>\n",
       "    </tr>\n",
       "    <tr>\n",
       "      <th>2018-01-02 00:00:00</th>\n",
       "      <td>-8.80</td>\n",
       "      <td>-12.70</td>\n",
       "    </tr>\n",
       "    <tr>\n",
       "      <th>2018-01-02 12:00:00</th>\n",
       "      <td>-9.65</td>\n",
       "      <td>-14.65</td>\n",
       "    </tr>\n",
       "    <tr>\n",
       "      <th>2018-01-03 00:00:00</th>\n",
       "      <td>-10.50</td>\n",
       "      <td>-16.60</td>\n",
       "    </tr>\n",
       "    <tr>\n",
       "      <th>2018-01-03 12:00:00</th>\n",
       "      <td>-13.00</td>\n",
       "      <td>-16.85</td>\n",
       "    </tr>\n",
       "    <tr>\n",
       "      <th>2018-01-04 00:00:00</th>\n",
       "      <td>-15.50</td>\n",
       "      <td>-17.10</td>\n",
       "    </tr>\n",
       "    <tr>\n",
       "      <th>2018-01-04 12:00:00</th>\n",
       "      <td>-15.50</td>\n",
       "      <td>-17.40</td>\n",
       "    </tr>\n",
       "    <tr>\n",
       "      <th>2018-01-05 00:00:00</th>\n",
       "      <td>-15.50</td>\n",
       "      <td>-17.70</td>\n",
       "    </tr>\n",
       "    <tr>\n",
       "      <th>2018-01-05 12:00:00</th>\n",
       "      <td>-13.55</td>\n",
       "      <td>-19.10</td>\n",
       "    </tr>\n",
       "    <tr>\n",
       "      <th>2018-01-06 00:00:00</th>\n",
       "      <td>-11.60</td>\n",
       "      <td>-20.50</td>\n",
       "    </tr>\n",
       "    <tr>\n",
       "      <th>2018-01-06 12:00:00</th>\n",
       "      <td>-6.85</td>\n",
       "      <td>-16.05</td>\n",
       "    </tr>\n",
       "    <tr>\n",
       "      <th>2018-01-07 00:00:00</th>\n",
       "      <td>-2.10</td>\n",
       "      <td>-11.60</td>\n",
       "    </tr>\n",
       "  </tbody>\n",
       "</table>\n",
       "</div>"
      ],
      "text/plain": [
       "                      TMAX   TMIN\n",
       "DATE                             \n",
       "2018-01-01 00:00:00 -10.50 -17.70\n",
       "2018-01-01 12:00:00  -9.65 -15.20\n",
       "2018-01-02 00:00:00  -8.80 -12.70\n",
       "2018-01-02 12:00:00  -9.65 -14.65\n",
       "2018-01-03 00:00:00 -10.50 -16.60\n",
       "2018-01-03 12:00:00 -13.00 -16.85\n",
       "2018-01-04 00:00:00 -15.50 -17.10\n",
       "2018-01-04 12:00:00 -15.50 -17.40\n",
       "2018-01-05 00:00:00 -15.50 -17.70\n",
       "2018-01-05 12:00:00 -13.55 -19.10\n",
       "2018-01-06 00:00:00 -11.60 -20.50\n",
       "2018-01-06 12:00:00  -6.85 -16.05\n",
       "2018-01-07 00:00:00  -2.10 -11.60"
      ]
     },
     "execution_count": 52,
     "metadata": {},
     "output_type": "execute_result"
    }
   ],
   "source": [
    "selection = data.loc[\"2018-01-01\":\"2018-01-07\", [\"TMAX\", \"TMIN\"]].copy()\n",
    "selection.resample(\"12h\").interpolate()"
   ]
  },
  {
   "cell_type": "markdown",
   "metadata": {},
   "source": [
    "As a result, the daily data are converted to a higher frequency and the temperature at noon on 1 Jan 2018 is estimated to be the average of the values on 1 and 2 January. In this case we have used linear interpolation, but there are many other interpolation methods available as shown in the [pandas interpolation documentation](https://pandas.pydata.org/pandas-docs/stable/reference/api/pandas.Series.interpolate.html). "
   ]
  },
  {
   "cell_type": "markdown",
   "metadata": {},
   "source": [
    "## Calculating rolling statistics\n",
    "\n",
    "The calculation of rolling statistics is yet another useful technique to deal with time series data that is \"noisy\" or that has gaps between observations. Calculating a moving average is a typical rolling statistics operation in which observations are weighted (averaged) over a moving \"window\", which is an efficient way to smooth the data and reduce variance between observations. For example, stock market data or GPS observations of the movement / speed of vehicles are good examples of datasets that typically have large amounts of variance, which can make it challenging to see patterns without smoothing. \n",
    "\n",
    "pandas supports various moving window functions, and each have differences in how they influence the end result. Some use a static window size and weigh the observations equally, whereas others can give more weight to more recent observations, for example. In the following we will see how a moving average can be calculated with pandas, and how it influences the interpretations of our data. Let's start by making a plot based on the maximum daily temperature from 1990 onwards."
   ]
  },
  {
   "cell_type": "code",
   "execution_count": 53,
   "metadata": {},
   "outputs": [
    {
     "data": {
      "text/plain": [
       "<Axes: xlabel='DATE'>"
      ]
     },
     "execution_count": 53,
     "metadata": {},
     "output_type": "execute_result"
    },
    {
     "data": {
      "image/png": "[encoded data removed]",
      "text/plain": [
       "<Figure size 640x480 with 1 Axes>"
      ]
     },
     "metadata": {},
     "output_type": "display_data"
    }
   ],
   "source": [
    "data.plot(y=\"TMAX\")"
   ]
  },
  {
   "cell_type": "markdown",
   "metadata": {},
   "source": [
    "Let's see how we can apply rolling statistics with our time series and calculate a moving average based on four closest (consecutive) temperature observations. To do this, we can use the `.rolling()` method, which takes an integer number as an argument by default to specify how many observations should be grouped together (i.e., the window size). By chaining the `.mean()` command after `.rolling()`, we can specify that we want to calculate the average temperature based on those four observations."
   ]
  },
  {
   "cell_type": "code",
   "execution_count": 54,
   "metadata": {},
   "outputs": [
    {
     "data": {
      "text/plain": [
       "DATE\n",
       "1990-01-01      NaN\n",
       "1990-01-02      NaN\n",
       "1990-01-03      NaN\n",
       "1990-01-04   -0.575\n",
       "1990-01-05   -1.400\n",
       "              ...  \n",
       "2024-12-26   -0.225\n",
       "2024-12-27    1.300\n",
       "2024-12-28    2.650\n",
       "2024-12-29    3.875\n",
       "2024-12-30    3.875\n",
       "Name: TMAX, Length: 12751, dtype: float64"
      ]
     },
     "execution_count": 54,
     "metadata": {},
     "output_type": "execute_result"
    }
   ],
   "source": [
    "moving_temps = data[\"TMAX\"].rolling(4).mean()\n",
    "moving_temps"
   ]
  },
  {
   "cell_type": "markdown",
   "metadata": {},
   "source": [
    "As output here, we get a Series in which time is the index and the newly calculated moving-window average temperatures are the values. As can be seen in this example, the first three temperature values are NaN, which is expected because we specified that the average should always be based on four consecutive observations. Thus, the average cannot be calculated for the first three observations, and pandas returns NaN.\n",
    "\n",
    "In addition, it is important to note that `.rolling()` and `.resample()` work similarly, but also have differences. The main difference is that the .rolling() will maintain the number of observations in the data (but change the values according neighboring values, for example based on the mean), whereas .resample() will actually aggregate and reduce the number of observations that will be stored in the result.\n",
    "\n",
    "With our data set, we are fortunate that we are working with observations at regular intervals (daily), but this is not always the case. In situations where the observations are made at irregular time intervals (e.g., several times per day at irregular intervals) using a moving window with a set number of observations can result in unwanted consequences and errors in the analysis. This issue can be handled by passing a `DateOffset` as an argument in the `.rolling()` function, similar to how we did earlier when resampling our data. If the observations occur more frequently than daily, you might use a fixed window size of one day by passing `\"1D\"` to the function. This will keep the time span equal, no matter how many observations there would be recorded within a single day. Note, however, that the time interval being used should be equal, so values such as `\"1MS\"` for monthly intervals would not be consistent since the number of days in a month varies.\n",
    "\n",
    "In our case, we can use this approach to easily calculate rolling statistics with different window sizes, such as weekly, monthly or even annual averages. We can do this by specifying a varying number of days for the moving window. To demonstrate the influence of \"smoothing\" our time series based on different moving window sizes, let's calculate the moving average of temperatures based on window sizes of 180 days and 360 days (roughly one year), and plot the results."
   ]
  },
  {
   "cell_type": "code",
   "execution_count": 55,
   "metadata": {},
   "outputs": [],
   "source": [
    "half_year = data[\"TMAX\"].rolling(\"180D\").mean()\n",
    "annual = data[\"TMAX\"].rolling(\"360D\").mean()"
   ]
  },
  {
   "cell_type": "code",
   "execution_count": 56,
   "metadata": {},
   "outputs": [
    {
     "data": {
      "text/plain": [
       "<matplotlib.legend.Legend at 0x155059590>"
      ]
     },
     "execution_count": 56,
     "metadata": {},
     "output_type": "execute_result"
    },
    {
     "data": {
      "image/png": "[encoded data removed]",
      "text/plain": [
       "<Figure size 1000x600 with 1 Axes>"
      ]
     },
     "metadata": {},
     "output_type": "display_data"
    }
   ],
   "source": [
    "# Plot\n",
    "ax = data.plot(y=\"TMAX\", figsize=(10,6), alpha=0.5, label=\"Daily\")\n",
    "ax = half_year.plot(ax=ax, y=\"TMAX\", lw=2, label=\"Half yearly\")\n",
    "ax = annual.plot(ax=ax, y=\"TMAX\", lw=3, label=\"Yearly\")\n",
    "ax.set_ylabel(\"Temperature (degrees Fahrenheit)\", size=12)\n",
    "ax.legend()"
   ]
  },
  {
   "cell_type": "markdown",
   "metadata": {},
   "source": [
    "\n",
    "As a result, we have three different lines showing how the raw daily temperature observations (blue line) compare to those smoothed for roughly half a year (orange line) or one year (green line). The daily values show how much temperature varies day to day in our data set, while yearly values roughly show how much temperatures vary from year to year. As we can observe, the variance between observations is reduced (i.e., smoothed) when the size of the window is larger. \n",
    "\n",
    "It is worthwhile to note two other common rolling statistical calculations that can be done using pandas. First, it is possible to use exponentially weighted (EW) window functions to give more weight to observations that are closer to the center of the window (closer in time in our case) using a decay function. The pandas method `.ewm()` can be used for this as described in the [pandas documentation](https://pandas.pydata.org/pandas-docs/stable/reference/api/pandas.DataFrame.ewm.html). Second, in addition to the moving window functions, pandas provides a method called `.expanding()`, which increases the size of the window for each observation until it encompasses the whole series. This method basically accumulates the information on each observation, similar to cumulative summing, and can be useful in some predictive applications where cumulative information about the given phenomena can provide more accurate results using more observations, for example. More information about the `.expanding()` method can be found in the [pandas documentation](https://pandas.pydata.org/pandas-docs/stable/reference/api/pandas.DataFrame.expanding.html)."
   ]
  }
 ],
 "metadata": {
  "kernelspec": {
   "display_name": "pythongis",
   "language": "python",
   "name": "python3"
  },
  "language_info": {
   "codemirror_mode": {
    "name": "ipython",
    "version": 3
   },
   "file_extension": ".py",
   "mimetype": "text/x-python",
   "name": "python",
   "nbconvert_exporter": "python",
   "pygments_lexer": "ipython3",
   "version": "3.11.5"
  }
 },
 "nbformat": 4,
 "nbformat_minor": 2
}
